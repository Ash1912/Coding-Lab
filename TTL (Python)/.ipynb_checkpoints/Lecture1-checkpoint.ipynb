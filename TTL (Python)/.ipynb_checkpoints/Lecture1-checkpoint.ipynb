{
 "cells": [
  {
   "cell_type": "code",
   "execution_count": 1,
   "id": "654a7dc8",
   "metadata": {},
   "outputs": [
    {
     "data": {
      "text/plain": [
       "7"
      ]
     },
     "execution_count": 1,
     "metadata": {},
     "output_type": "execute_result"
    }
   ],
   "source": [
    "3+4\n"
   ]
  },
  {
   "cell_type": "code",
   "execution_count": 2,
   "id": "8c1a9149",
   "metadata": {},
   "outputs": [
    {
     "ename": "NameError",
     "evalue": "name 'true' is not defined",
     "output_type": "error",
     "traceback": [
      "\u001b[1;31m---------------------------------------------------------------------------\u001b[0m",
      "\u001b[1;31mNameError\u001b[0m                                 Traceback (most recent call last)",
      "\u001b[1;32m~\\AppData\\Local\\Temp\\ipykernel_17200\\967257366.py\u001b[0m in \u001b[0;36m<module>\u001b[1;34m\u001b[0m\n\u001b[1;32m----> 1\u001b[1;33m \u001b[1;32mwhile\u001b[0m \u001b[0mtrue\u001b[0m\u001b[1;33m:\u001b[0m \u001b[0ma\u001b[0m\u001b[1;33m=\u001b[0m\u001b[1;36m10\u001b[0m\u001b[1;33m\u001b[0m\u001b[1;33m\u001b[0m\u001b[0m\n\u001b[0m",
      "\u001b[1;31mNameError\u001b[0m: name 'true' is not defined"
     ]
    }
   ],
   "source": [
    "while true: a=10"
   ]
  },
  {
   "cell_type": "code",
   "execution_count": 3,
   "id": "04537d8a",
   "metadata": {},
   "outputs": [
    {
     "data": {
      "text/plain": [
       "7"
      ]
     },
     "execution_count": 3,
     "metadata": {},
     "output_type": "execute_result"
    }
   ],
   "source": [
    "3+4\n"
   ]
  },
  {
   "cell_type": "code",
   "execution_count": 4,
   "id": "1b7c74a8",
   "metadata": {},
   "outputs": [
    {
     "ename": "NameError",
     "evalue": "name 'true' is not defined",
     "output_type": "error",
     "traceback": [
      "\u001b[1;31m---------------------------------------------------------------------------\u001b[0m",
      "\u001b[1;31mNameError\u001b[0m                                 Traceback (most recent call last)",
      "\u001b[1;32m~\\AppData\\Local\\Temp\\ipykernel_17200\\967257366.py\u001b[0m in \u001b[0;36m<module>\u001b[1;34m\u001b[0m\n\u001b[1;32m----> 1\u001b[1;33m \u001b[1;32mwhile\u001b[0m \u001b[0mtrue\u001b[0m\u001b[1;33m:\u001b[0m \u001b[0ma\u001b[0m\u001b[1;33m=\u001b[0m\u001b[1;36m10\u001b[0m\u001b[1;33m\u001b[0m\u001b[1;33m\u001b[0m\u001b[0m\n\u001b[0m",
      "\u001b[1;31mNameError\u001b[0m: name 'true' is not defined"
     ]
    }
   ],
   "source": [
    "while true: a=10"
   ]
  },
  {
   "cell_type": "code",
   "execution_count": 5,
   "id": "6a923f6b",
   "metadata": {},
   "outputs": [
    {
     "name": "stdout",
     "output_type": "stream",
     "text": [
      "100\n",
      "1000.0\n",
      "Ashish\n"
     ]
    }
   ],
   "source": [
    "counter = 100\n",
    "miles = 1000.0\n",
    "name = \"Ashish\"\n",
    "\n",
    "print (counter)\n",
    "print (miles)\n",
    "print (name)\n"
   ]
  },
  {
   "cell_type": "code",
   "execution_count": 6,
   "id": "ae3246f0",
   "metadata": {},
   "outputs": [
    {
     "name": "stdout",
     "output_type": "stream",
     "text": [
      "200\n",
      "2000.0\n",
      "AshishAshish\n"
     ]
    }
   ],
   "source": [
    "counter = 100\n",
    "miles = 1000.0\n",
    "name = \"Ashish\"\n",
    "\n",
    "print (2*counter)\n",
    "print (2*miles)\n",
    "print (2*name)\n"
   ]
  },
  {
   "cell_type": "code",
   "execution_count": 7,
   "id": "9fae08b6",
   "metadata": {},
   "outputs": [
    {
     "name": "stdout",
     "output_type": "stream",
     "text": [
      "a+b = 30\n",
      "a-b = -10\n",
      "a*b = 200\n",
      "a%b = 10\n"
     ]
    }
   ],
   "source": [
    "a=10\n",
    "b=20\n",
    "print('a+b =', a+b)\n",
    "print('a-b =', a-b)\n",
    "print('a*b =', a*b)\n",
    "print('a%b =', a%b)"
   ]
  },
  {
   "cell_type": "code",
   "execution_count": 8,
   "id": "3b6685a7",
   "metadata": {},
   "outputs": [
    {
     "name": "stdout",
     "output_type": "stream",
     "text": [
      "T and T = True\n",
      "T and F = False\n",
      "F and F = False\n",
      "\n",
      "T or T = True\n",
      "T or F = True\n",
      "F or !F = True\n"
     ]
    }
   ],
   "source": [
    "print('T and T =', True and True)\n",
    "print('T and F =', True and False)\n",
    "print('F and F =', False and False)\n",
    "print()\n",
    "print('T or T =', True or True)\n",
    "print('T or F =', True or False)\n",
    "print('F or !F =', False or not False)"
   ]
  },
  {
   "cell_type": "code",
   "execution_count": 9,
   "id": "1e87e1f8",
   "metadata": {},
   "outputs": [
    {
     "ename": "SyntaxError",
     "evalue": "invalid syntax (560203704.py, line 1)",
     "output_type": "error",
     "traceback": [
      "\u001b[1;36m  File \u001b[1;32m\"C:\\Users\\KIIT\\AppData\\Local\\Temp\\ipykernel_17200\\560203704.py\"\u001b[1;36m, line \u001b[1;32m1\u001b[0m\n\u001b[1;33m    def cube:\u001b[0m\n\u001b[1;37m            ^\u001b[0m\n\u001b[1;31mSyntaxError\u001b[0m\u001b[1;31m:\u001b[0m invalid syntax\n"
     ]
    }
   ],
   "source": [
    "def cube:\n",
    "    return x*x*x\n",
    "print('cube of 5 =',\n",
    "     cube(5))"
   ]
  },
  {
   "cell_type": "code",
   "execution_count": 10,
   "id": "0f5ec8c2",
   "metadata": {},
   "outputs": [
    {
     "name": "stdout",
     "output_type": "stream",
     "text": [
      "cube of 5 = 125\n"
     ]
    }
   ],
   "source": [
    "def cube(x):\n",
    "    return x*x*x\n",
    "print('cube of 5 =',\n",
    "     cube(5))"
   ]
  },
  {
   "cell_type": "code",
   "execution_count": 11,
   "id": "2ea1a438",
   "metadata": {},
   "outputs": [
    {
     "name": "stdout",
     "output_type": "stream",
     "text": [
      "cube of 5 = 125\n"
     ]
    }
   ],
   "source": [
    "def cube(x):\n",
    "    return x**3\n",
    "print('cube of 5 =',\n",
    "     cube(5))"
   ]
  },
  {
   "cell_type": "code",
   "execution_count": 12,
   "id": "9a743cf2",
   "metadata": {},
   "outputs": [
    {
     "name": "stdout",
     "output_type": "stream",
     "text": [
      "-6 is neg\n",
      "6 is pos\n",
      "0 is 0\n"
     ]
    }
   ],
   "source": [
    "def sign(x):\n",
    "    if x<0:\n",
    "        print(x, 'is neg')\n",
    "    elif x==0:\n",
    "        print(x, 'is 0')\n",
    "    else:\n",
    "        print(x, 'is pos')\n",
    "sign(-6)\n",
    "sign(6)\n",
    "sign(0)"
   ]
  },
  {
   "cell_type": "code",
   "execution_count": 13,
   "id": "f8a31f5d",
   "metadata": {},
   "outputs": [
    {
     "name": "stdout",
     "output_type": "stream",
     "text": [
      "Counting till 10\n",
      "1\n",
      "2\n",
      "3\n",
      "4\n",
      "5\n",
      "6\n",
      "7\n",
      "8\n",
      "9\n",
      "10\n"
     ]
    }
   ],
   "source": [
    "def count(n):\n",
    "    for i in range(1,n+1):\n",
    "        print(i)\n",
    "print('Counting till 10')\n",
    "count(10)"
   ]
  },
  {
   "cell_type": "code",
   "execution_count": 14,
   "id": "f79612bd",
   "metadata": {},
   "outputs": [],
   "source": [
    "def factorial(n):\n",
    "    ans = 1\n",
    "    for i in range(1,n+1):\n",
    "        ans = ans*i\n",
    "        return ans"
   ]
  },
  {
   "cell_type": "code",
   "execution_count": 15,
   "id": "c6977971",
   "metadata": {},
   "outputs": [
    {
     "name": "stdout",
     "output_type": "stream",
     "text": [
      "Factorial of 10 is: 1\n"
     ]
    }
   ],
   "source": [
    "def factorial(n):\n",
    "    ans = 1\n",
    "    for i in range(1,n+1):\n",
    "        ans = ans*i\n",
    "        return ans\n",
    "print('Factorial of 10 is:', factorial(10))"
   ]
  },
  {
   "cell_type": "code",
   "execution_count": 16,
   "id": "3eccc588",
   "metadata": {},
   "outputs": [
    {
     "name": "stdout",
     "output_type": "stream",
     "text": [
      "Factorial of 10 is: 3628800\n"
     ]
    }
   ],
   "source": [
    "def factorial(n):\n",
    "    ans = 1\n",
    "    for i in range(1,n+1):\n",
    "        ans = ans*i\n",
    "    return ans\n",
    "print('Factorial of 10 is:', factorial(10))"
   ]
  },
  {
   "cell_type": "code",
   "execution_count": 17,
   "id": "174295df",
   "metadata": {},
   "outputs": [],
   "source": [
    "p=1"
   ]
  },
  {
   "cell_type": "code",
   "execution_count": 18,
   "id": "fa613860",
   "metadata": {},
   "outputs": [
    {
     "name": "stdout",
     "output_type": "stream",
     "text": [
      "1\n",
      "2\n",
      "3\n",
      "4\n",
      "5\n",
      "6\n",
      "7\n",
      "8\n",
      "9\n",
      "10\n"
     ]
    }
   ],
   "source": [
    "p=1\n",
    "while p<=10:\n",
    "    print(p)\n",
    "    p+=1"
   ]
  },
  {
   "cell_type": "code",
   "execution_count": 1,
   "id": "34898895",
   "metadata": {},
   "outputs": [
    {
     "name": "stdout",
     "output_type": "stream",
     "text": [
      "100\n",
      "1000.0\n",
      "Ashish\n"
     ]
    }
   ],
   "source": [
    "counter = 100\n",
    "miles = 1000.0\n",
    "name = \"Ashish\"\n",
    "print(counter)\n",
    "print(miles)\n",
    "print(name)"
   ]
  },
  {
   "cell_type": "code",
   "execution_count": 2,
   "id": "06b0d40b",
   "metadata": {},
   "outputs": [],
   "source": [
    "a,b,c = 1,2,\"Ashish\"\n",
    "var1 = 1\n",
    "var2 = 10\n",
    "del var1, var2\n"
   ]
  },
  {
   "cell_type": "code",
   "execution_count": 4,
   "id": "8c23e69a",
   "metadata": {},
   "outputs": [
    {
     "name": "stdout",
     "output_type": "stream",
     "text": [
      "Ashish\n",
      "A\n",
      "his\n",
      "hish\n",
      "AshishAshish\n",
      "AshishTEST\n"
     ]
    }
   ],
   "source": [
    "str=\"Ashish\"\n",
    "print(str)\n",
    "print(str[0])\n",
    "print(str[2:5])\n",
    "print(str[2:])\n",
    "print(str * 2)\n",
    "print(str+\"TEST\")"
   ]
  },
  {
   "cell_type": "code",
   "execution_count": 5,
   "id": "218b56a9",
   "metadata": {},
   "outputs": [
    {
     "name": "stdout",
     "output_type": "stream",
     "text": [
      "Ashish\n",
      "A\n",
      "his\n",
      "hish\n",
      "AshishAshish\n",
      "Ashish TEST\n"
     ]
    }
   ],
   "source": [
    "str=\"Ashish\"\n",
    "print(str)\n",
    "print(str[0])\n",
    "print(str[2:5])\n",
    "print(str[2:])\n",
    "print(str * 2)\n",
    "print(str+\" \"+\"TEST\")"
   ]
  },
  {
   "cell_type": "code",
   "execution_count": null,
   "id": "8da894c4",
   "metadata": {},
   "outputs": [],
   "source": []
  }
 ],
 "metadata": {
  "kernelspec": {
   "display_name": "Python 3 (ipykernel)",
   "language": "python",
   "name": "python3"
  },
  "language_info": {
   "codemirror_mode": {
    "name": "ipython",
    "version": 3
   },
   "file_extension": ".py",
   "mimetype": "text/x-python",
   "name": "python",
   "nbconvert_exporter": "python",
   "pygments_lexer": "ipython3",
   "version": "3.9.13"
  }
 },
 "nbformat": 4,
 "nbformat_minor": 5
}
