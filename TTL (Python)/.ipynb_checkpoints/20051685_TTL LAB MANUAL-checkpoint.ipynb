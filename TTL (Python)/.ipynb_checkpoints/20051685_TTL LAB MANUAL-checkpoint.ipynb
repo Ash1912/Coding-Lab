{
 "cells": [
  {
   "cell_type": "code",
   "execution_count": 4,
   "id": "5bed7de2",
   "metadata": {},
   "outputs": [
    {
     "name": "stdout",
     "output_type": "stream",
     "text": [
      "Addition: a+b = 28\n",
      "Subtraction: a-b = 10\n",
      "Multiplication: a*b = 171\n",
      "Modulus: a%b = 1\n",
      "Exponent: a**b = 322687697779\n",
      "Floor Division: a//b = 2\n"
     ]
    }
   ],
   "source": [
    "# Grp 1: Numerical Operations for Integer \n",
    "# 1 -a\n",
    "a=19\n",
    "b=9\n",
    "print('Addition: a+b =', a+b)\n",
    "print('Subtraction: a-b =', a-b)\n",
    "print('Multiplication: a*b =', a*b)\n",
    "print('Modulus: a%b =', a%b)\n",
    "print('Exponent: a**b =', a**b)\n",
    "print('Floor Division: a//b =', a//b)"
   ]
  },
  {
   "cell_type": "code",
   "execution_count": 6,
   "id": "ab3e22dc",
   "metadata": {},
   "outputs": [
    {
     "name": "stdout",
     "output_type": "stream",
     "text": [
      "Addition: a+b = 28.0\n",
      "Subtraction: a-b = -10.0\n",
      "Multiplication: a*b = 171.0\n",
      "Modulus: a%b = 9.0\n",
      "Exponent: a**b = 1.350851717672992e+18\n",
      "Floor Division: a//b = 0.0\n"
     ]
    }
   ],
   "source": [
    "# Grp 1: Numerical Operations for Integer \n",
    "# 1 -b\n",
    "a=9.0\n",
    "b=19.0\n",
    "print('Addition: a+b =', a+b)\n",
    "print('Subtraction: a-b =', a-b)\n",
    "print('Multiplication: a*b =', a*b)\n",
    "print('Modulus: a%b =', a%b)\n",
    "print('Exponent: a**b =', a**b)\n",
    "print('Floor Division: a//b =', a//b)"
   ]
  },
  {
   "cell_type": "code",
   "execution_count": 7,
   "id": "13939ab8",
   "metadata": {},
   "outputs": [
    {
     "name": "stdout",
     "output_type": "stream",
     "text": [
      "T and T = True\n",
      "T and F = False\n",
      "F and F = False\n",
      "\n",
      "T or T = True\n",
      "T or F = True\n",
      "F or !F = True\n"
     ]
    }
   ],
   "source": [
    "# Grp 1: Boolean Expressions\n",
    "\n",
    "print('T and T =', True and True)\n",
    "print('T and F =', True and False)\n",
    "print('F and F =', False and False)\n",
    "print()\n",
    "print('T or T =', True or True)\n",
    "print('T or F =', True or False)\n",
    "print('F or !F =', False or not False)"
   ]
  },
  {
   "cell_type": "code",
   "execution_count": 8,
   "id": "ca9a444c",
   "metadata": {},
   "outputs": [
    {
     "name": "stdout",
     "output_type": "stream",
     "text": [
      "Ashish\n",
      "A\n",
      "his\n",
      "hish\n",
      "AshishAshish\n",
      "Ashish TEST\n"
     ]
    }
   ],
   "source": [
    "# Grp 1: String operations\n",
    "str=\"Ashish\"\n",
    "print(str)\n",
    "print(str[0])\n",
    "print(str[2:5])\n",
    "print(str[2:])\n",
    "print(str * 2)\n",
    "print(str+\" \"+\"TEST\")"
   ]
  },
  {
   "cell_type": "code",
   "execution_count": 10,
   "id": "8a7e2d39",
   "metadata": {},
   "outputs": [
    {
     "name": "stdout",
     "output_type": "stream",
     "text": [
      "cube of 5: 125\n",
      "print 3-4: -1\n",
      "print 4-3: 1\n"
     ]
    }
   ],
   "source": [
    "# Grp 2: Functions\n",
    "\n",
    "def cube(x):\n",
    "    return x*x*x\n",
    "print('cube of 5:',cube(5))\n",
    "\n",
    "def subtract(a,b):\n",
    "    return a-b\n",
    "print('print 3-4:',subtract(3,4))\n",
    "print('print 4-3:',subtract(b=3,a=4))"
   ]
  },
  {
   "cell_type": "code",
   "execution_count": 12,
   "id": "3e055995",
   "metadata": {},
   "outputs": [
    {
     "name": "stdout",
     "output_type": "stream",
     "text": [
      "-6 is negative\n",
      "6 is positive\n",
      "0 is zero\n"
     ]
    }
   ],
   "source": [
    "# Grp 2: If-else-elif statements\n",
    "\n",
    "def sign(x):\n",
    "    if x < 0:\n",
    "        print(x,'is negative')\n",
    "    elif x == 0:\n",
    "        print(x,'is zero')\n",
    "    else:\n",
    "        print(x,'is positive')\n",
    "\n",
    "sign(-6)\n",
    "sign(6)\n",
    "sign(0)"
   ]
  },
  {
   "cell_type": "code",
   "execution_count": 13,
   "id": "e0da3c2f",
   "metadata": {},
   "outputs": [
    {
     "name": "stdout",
     "output_type": "stream",
     "text": [
      "Factorial of 10 is: 3628800\n"
     ]
    }
   ],
   "source": [
    "# Grp 3: For loop\n",
    "\n",
    "def factorial(n):\n",
    "    ans = 1\n",
    "    for i in range(1,n+1):\n",
    "        ans = ans*i\n",
    "    return ans\n",
    "\n",
    "print('Factorial of 10 is:', factorial(10))"
   ]
  },
  {
   "cell_type": "code",
   "execution_count": 14,
   "id": "c7893856",
   "metadata": {},
   "outputs": [
    {
     "name": "stdout",
     "output_type": "stream",
     "text": [
      "Counting till 5 using while loop\n",
      "1\n",
      "2\n",
      "3\n",
      "4\n",
      "5\n"
     ]
    }
   ],
   "source": [
    "# Grp 3: While loop\n",
    "\n",
    "print('Counting till 5 using while loop')\n",
    "p = 1\n",
    "while(p<=5):\n",
    "    print(p)\n",
    "    p+=1"
   ]
  },
  {
   "cell_type": "code",
   "execution_count": 15,
   "id": "f3a77b77",
   "metadata": {},
   "outputs": [
    {
     "name": "stdout",
     "output_type": "stream",
     "text": [
      "Type of a is <class 'list'>\n",
      "a= [1, 2, 3, 4]\n",
      "Printing the list and squares\n",
      "1 1\n",
      "2 4\n",
      "3 9\n",
      "4 16\n",
      "Changing the last value to 5\n",
      "modified a= [1, 2, 3, 5]\n"
     ]
    }
   ],
   "source": [
    "# Grp 4: Lists\n",
    "a = [1,2,3,4]\n",
    "print('Type of a is',type(a))\n",
    "print('a=',a)\n",
    "print('Printing the list and squares')\n",
    "for n in a:\n",
    "    print(n,n*n)\n",
    "print('Changing the last value to 5')\n",
    "a[3]=5\n",
    "print('modified a=',a)"
   ]
  },
  {
   "cell_type": "code",
   "execution_count": 16,
   "id": "ee3544cb",
   "metadata": {},
   "outputs": [
    {
     "name": "stdout",
     "output_type": "stream",
     "text": [
      "Type of b is <class 'tuple'>\n",
      "b= (1, 2, 3, 4)\n",
      "Can not modify tuple b, b is read only\n",
      "Last element of b: 4\n"
     ]
    }
   ],
   "source": [
    "# Grp 4: Tuples\n",
    "b = (1,2,3,4)\n",
    "print('Type of b is',type(b))\n",
    "print('b=',b)\n",
    "print('Can not modify tuple b, b is read only')\n",
    "print('Last element of b:', b[3])"
   ]
  },
  {
   "cell_type": "code",
   "execution_count": 18,
   "id": "da7918c5",
   "metadata": {},
   "outputs": [
    {
     "name": "stdout",
     "output_type": "stream",
     "text": [
      "yellowgreen\n",
      "6\n",
      "Printing entire dictionary\n",
      "greetings --> hello\n",
      "color --> yellowgreen\n",
      "4 --> ok\n",
      "5 --> 6\n",
      "7 --> eight\n",
      "True\n",
      "False\n"
     ]
    }
   ],
   "source": [
    "# Grp 4: Dictionaries\n",
    "c = { 'greetings': 'hello',\n",
    "     'color': 'yellowgreen',\n",
    "     4: 'ok',\n",
    "     5: 6,\n",
    "     7: 'eight' }\n",
    "print(c['color'])\n",
    "print(c[5])\n",
    "print('Printing entire dictionary')\n",
    "for key in c:\n",
    "    print(key,'-->', c[key])\n",
    "print('color' in c)\n",
    "print('shade' in c)"
   ]
  },
  {
   "cell_type": "code",
   "execution_count": 19,
   "id": "30b90806",
   "metadata": {},
   "outputs": [
    {
     "name": "stdout",
     "output_type": "stream",
     "text": [
      "Ashish Says Hello\n",
      "Ashish Marks obtained in: CD => [40, 45] = 85 out of 100\n",
      "Ashish Marks obtained in: CC => [40, 41] = 81 out of 100\n",
      "Ashish Marks obtained in: CE => [45, 45] = 90 out of 100\n",
      "Ashish obtained 256 out of 300\n"
     ]
    }
   ],
   "source": [
    "# Grp 5:Object Oriented Programming\n",
    "#define a class\n",
    "class Student:\n",
    "    def __init__(self, name):\n",
    "        self.name = name\n",
    "        self.marks = {}\n",
    "      \n",
    "        \n",
    "    def greet(self):\n",
    "        print(self.name,'Says Hello')\n",
    "    \n",
    "    def addMarks(self, sub, *marks):\n",
    "        self.marks[sub] = [*marks]\n",
    "#         print('Marks obtained in:',self.marks[sub])\n",
    "\n",
    "    def printTotal(self):\n",
    "        total = 0\n",
    "        maximum = 0\n",
    "        for key in self.marks:\n",
    "            total += sum(self.marks[key])\n",
    "            maximum += 100\n",
    "            print(self.name,'Marks obtained in:',key,'=>', self.marks[key],'=',sum(self.marks[key]),'out of',100)\n",
    "        print(self.name,'obtained',total,'out of',maximum)\n",
    "s1=Student('Ashish')\n",
    "s1.greet()\n",
    "s1.addMarks('CD',40,45)\n",
    "s1.addMarks('CC',40,41)\n",
    "s1.addMarks('CE',45,45)\n",
    "s1.printTotal()"
   ]
  },
  {
   "cell_type": "code",
   "execution_count": 20,
   "id": "fffbf237",
   "metadata": {},
   "outputs": [
    {
     "name": "stdout",
     "output_type": "stream",
     "text": [
      "Woof woof! Clifford says hello.\n",
      "Meow meow! Ginger says hello.\n",
      "Phew phew! Polly says hello.\n",
      "Clifford is a Rottweiler dog .\n",
      "Ginger is a cat\n",
      "Polly is a parrot\n",
      "Is Ginger black? False\n"
     ]
    }
   ],
   "source": [
    "#Grp 5:Creating derived class (Abstraction)\n",
    "class Pet:\n",
    "    def __init__(self, name, kind):\n",
    "        self.name=name\n",
    "        self.kind=kind\n",
    "        \n",
    "    def greet(self):\n",
    "        pass\n",
    "    \n",
    "    def describe(self):\n",
    "        print(self.name,\"is a\",self.kind)\n",
    "    \n",
    "class Parrot(Pet):\n",
    "    def __init__(self, name):\n",
    "        Pet.__init__(self,name, \"parrot\")\n",
    "    \n",
    "    def greet(self):\n",
    "        print(\"Phew phew!\",self.name, \n",
    "              \"says hello.\")\n",
    "        \n",
    "class Dog(Pet):\n",
    "    def __init__(self,name,breed):\n",
    "        Pet.__init__(self,name,\"dog\")\n",
    "        self.breed=breed\n",
    "    \n",
    "    def greet(self):\n",
    "        print(\"Woof woof!\",\n",
    "             self.name,\"says hello.\")\n",
    "    \n",
    "    def describe(self):\n",
    "        print(self.name,\"is a\",self.breed,\n",
    "              self.kind,\".\")\n",
    "\n",
    "class Cat(Pet):\n",
    "    def __init__(self,name,color):\n",
    "        Pet.__init__(self,name,\"cat\")\n",
    "        self.color=color\n",
    "    \n",
    "    def greet(self):\n",
    "        print(\"Meow meow!\",self.name,\n",
    "             \"says hello.\")\n",
    "    \n",
    "    def isBlack(self):\n",
    "        return self.color=='black'\n",
    "    \n",
    "p1=Dog(\"Clifford\",\"Rottweiler\")\n",
    "p2=Cat(\"Ginger\",\"brown\")\n",
    "p3=Parrot(\"Polly\")\n",
    "\n",
    "p1.greet()\n",
    "p2.greet()\n",
    "p3.greet()\n",
    "\n",
    "p1.describe()\n",
    "p2.describe()\n",
    "p3.describe()\n",
    "\n",
    "print(\"Is\",p2.name,\"black?\",p2.isBlack())"
   ]
  },
  {
   "cell_type": "code",
   "execution_count": 21,
   "id": "4e2f4d59",
   "metadata": {},
   "outputs": [
    {
     "name": "stdout",
     "output_type": "stream",
     "text": [
      "one\n",
      "two\n",
      "three\n",
      "\n",
      "one\n",
      "two\n",
      "three\n"
     ]
    }
   ],
   "source": [
    "# Grp 6: File I/O\n",
    "\n",
    "# Writing to a file\n",
    "f1=open('data.txt','w')\n",
    "f1.write(\"one\\ntwo\\nthree\\n\")\n",
    "f1.close()\n",
    "\n",
    "# Reading entire file\n",
    "f2=open('data.txt','r')\n",
    "contents=f2.read()\n",
    "print(contents)\n",
    "f2.close()\n",
    "\n",
    "# Reading line by line\n",
    "f3=open('data.txt','r')\n",
    "for line in f3:\n",
    "    print(line,end=\"\")\n",
    "f3.close()"
   ]
  },
  {
   "cell_type": "code",
   "execution_count": 22,
   "id": "6c96e2e8",
   "metadata": {},
   "outputs": [
    {
     "ename": "ServerSelectionTimeoutError",
     "evalue": "10.3.24.241:27017: timed out, Timeout: 30s, Topology Description: <TopologyDescription id: 63ecfe4b64018be114b9f621, topology_type: Single, servers: [<ServerDescription ('10.3.24.241', 27017) server_type: Unknown, rtt: None, error=NetworkTimeout('10.3.24.241:27017: timed out')>]>",
     "output_type": "error",
     "traceback": [
      "\u001b[1;31m---------------------------------------------------------------------------\u001b[0m",
      "\u001b[1;31mServerSelectionTimeoutError\u001b[0m               Traceback (most recent call last)",
      "\u001b[1;32m~\\AppData\\Local\\Temp\\ipykernel_19596\\838253660.py\u001b[0m in \u001b[0;36m<module>\u001b[1;34m\u001b[0m\n\u001b[0;32m      5\u001b[0m \u001b[1;31m# Create Database\u001b[0m\u001b[1;33m\u001b[0m\u001b[1;33m\u001b[0m\u001b[0m\n\u001b[0;32m      6\u001b[0m \u001b[0mfriends\u001b[0m\u001b[1;33m=\u001b[0m\u001b[0mclient\u001b[0m\u001b[1;33m.\u001b[0m\u001b[0mCS20051685\u001b[0m\u001b[1;33m.\u001b[0m\u001b[0mfriends\u001b[0m\u001b[1;33m\u001b[0m\u001b[1;33m\u001b[0m\u001b[0m\n\u001b[1;32m----> 7\u001b[1;33m friends.insert_one({'name':'Shikha',\n\u001b[0m\u001b[0;32m      8\u001b[0m                    \u001b[1;34m'year'\u001b[0m\u001b[1;33m:\u001b[0m\u001b[1;36m2017\u001b[0m\u001b[1;33m\u001b[0m\u001b[1;33m\u001b[0m\u001b[0m\n\u001b[0;32m      9\u001b[0m                    })\n",
      "\u001b[1;32m~\\anaconda3\\lib\\site-packages\\pymongo\\collection.py\u001b[0m in \u001b[0;36minsert_one\u001b[1;34m(self, document, bypass_document_validation, session)\u001b[0m\n\u001b[0;32m    703\u001b[0m         \u001b[0mwrite_concern\u001b[0m \u001b[1;33m=\u001b[0m \u001b[0mself\u001b[0m\u001b[1;33m.\u001b[0m\u001b[0m_write_concern_for\u001b[0m\u001b[1;33m(\u001b[0m\u001b[0msession\u001b[0m\u001b[1;33m)\u001b[0m\u001b[1;33m\u001b[0m\u001b[1;33m\u001b[0m\u001b[0m\n\u001b[0;32m    704\u001b[0m         return InsertOneResult(\n\u001b[1;32m--> 705\u001b[1;33m             self._insert(document,\n\u001b[0m\u001b[0;32m    706\u001b[0m                          \u001b[0mwrite_concern\u001b[0m\u001b[1;33m=\u001b[0m\u001b[0mwrite_concern\u001b[0m\u001b[1;33m,\u001b[0m\u001b[1;33m\u001b[0m\u001b[1;33m\u001b[0m\u001b[0m\n\u001b[0;32m    707\u001b[0m                          \u001b[0mbypass_doc_val\u001b[0m\u001b[1;33m=\u001b[0m\u001b[0mbypass_document_validation\u001b[0m\u001b[1;33m,\u001b[0m\u001b[1;33m\u001b[0m\u001b[1;33m\u001b[0m\u001b[0m\n",
      "\u001b[1;32m~\\anaconda3\\lib\\site-packages\\pymongo\\collection.py\u001b[0m in \u001b[0;36m_insert\u001b[1;34m(self, docs, ordered, check_keys, manipulate, write_concern, op_id, bypass_doc_val, session)\u001b[0m\n\u001b[0;32m    618\u001b[0m         \u001b[1;34m\"\"\"Internal insert helper.\"\"\"\u001b[0m\u001b[1;33m\u001b[0m\u001b[1;33m\u001b[0m\u001b[0m\n\u001b[0;32m    619\u001b[0m         \u001b[1;32mif\u001b[0m \u001b[0misinstance\u001b[0m\u001b[1;33m(\u001b[0m\u001b[0mdocs\u001b[0m\u001b[1;33m,\u001b[0m \u001b[0mabc\u001b[0m\u001b[1;33m.\u001b[0m\u001b[0mMapping\u001b[0m\u001b[1;33m)\u001b[0m\u001b[1;33m:\u001b[0m\u001b[1;33m\u001b[0m\u001b[1;33m\u001b[0m\u001b[0m\n\u001b[1;32m--> 620\u001b[1;33m             return self._insert_one(\n\u001b[0m\u001b[0;32m    621\u001b[0m                 \u001b[0mdocs\u001b[0m\u001b[1;33m,\u001b[0m \u001b[0mordered\u001b[0m\u001b[1;33m,\u001b[0m \u001b[0mcheck_keys\u001b[0m\u001b[1;33m,\u001b[0m \u001b[0mmanipulate\u001b[0m\u001b[1;33m,\u001b[0m \u001b[0mwrite_concern\u001b[0m\u001b[1;33m,\u001b[0m \u001b[0mop_id\u001b[0m\u001b[1;33m,\u001b[0m\u001b[1;33m\u001b[0m\u001b[1;33m\u001b[0m\u001b[0m\n\u001b[0;32m    622\u001b[0m                 bypass_doc_val, session)\n",
      "\u001b[1;32m~\\anaconda3\\lib\\site-packages\\pymongo\\collection.py\u001b[0m in \u001b[0;36m_insert_one\u001b[1;34m(self, doc, ordered, check_keys, manipulate, write_concern, op_id, bypass_doc_val, session)\u001b[0m\n\u001b[0;32m    607\u001b[0m             \u001b[0m_check_write_command_response\u001b[0m\u001b[1;33m(\u001b[0m\u001b[0mresult\u001b[0m\u001b[1;33m)\u001b[0m\u001b[1;33m\u001b[0m\u001b[1;33m\u001b[0m\u001b[0m\n\u001b[0;32m    608\u001b[0m \u001b[1;33m\u001b[0m\u001b[0m\n\u001b[1;32m--> 609\u001b[1;33m         self.__database.client._retryable_write(\n\u001b[0m\u001b[0;32m    610\u001b[0m             acknowledged, _insert_command, session)\n\u001b[0;32m    611\u001b[0m \u001b[1;33m\u001b[0m\u001b[0m\n",
      "\u001b[1;32m~\\anaconda3\\lib\\site-packages\\pymongo\\mongo_client.py\u001b[0m in \u001b[0;36m_retryable_write\u001b[1;34m(self, retryable, func, session)\u001b[0m\n\u001b[0;32m   1549\u001b[0m     \u001b[1;32mdef\u001b[0m \u001b[0m_retryable_write\u001b[0m\u001b[1;33m(\u001b[0m\u001b[0mself\u001b[0m\u001b[1;33m,\u001b[0m \u001b[0mretryable\u001b[0m\u001b[1;33m,\u001b[0m \u001b[0mfunc\u001b[0m\u001b[1;33m,\u001b[0m \u001b[0msession\u001b[0m\u001b[1;33m)\u001b[0m\u001b[1;33m:\u001b[0m\u001b[1;33m\u001b[0m\u001b[1;33m\u001b[0m\u001b[0m\n\u001b[0;32m   1550\u001b[0m         \u001b[1;34m\"\"\"Internal retryable write helper.\"\"\"\u001b[0m\u001b[1;33m\u001b[0m\u001b[1;33m\u001b[0m\u001b[0m\n\u001b[1;32m-> 1551\u001b[1;33m         \u001b[1;32mwith\u001b[0m \u001b[0mself\u001b[0m\u001b[1;33m.\u001b[0m\u001b[0m_tmp_session\u001b[0m\u001b[1;33m(\u001b[0m\u001b[0msession\u001b[0m\u001b[1;33m)\u001b[0m \u001b[1;32mas\u001b[0m \u001b[0ms\u001b[0m\u001b[1;33m:\u001b[0m\u001b[1;33m\u001b[0m\u001b[1;33m\u001b[0m\u001b[0m\n\u001b[0m\u001b[0;32m   1552\u001b[0m             \u001b[1;32mreturn\u001b[0m \u001b[0mself\u001b[0m\u001b[1;33m.\u001b[0m\u001b[0m_retry_with_session\u001b[0m\u001b[1;33m(\u001b[0m\u001b[0mretryable\u001b[0m\u001b[1;33m,\u001b[0m \u001b[0mfunc\u001b[0m\u001b[1;33m,\u001b[0m \u001b[0ms\u001b[0m\u001b[1;33m,\u001b[0m \u001b[1;32mNone\u001b[0m\u001b[1;33m)\u001b[0m\u001b[1;33m\u001b[0m\u001b[1;33m\u001b[0m\u001b[0m\n\u001b[0;32m   1553\u001b[0m \u001b[1;33m\u001b[0m\u001b[0m\n",
      "\u001b[1;32m~\\anaconda3\\lib\\contextlib.py\u001b[0m in \u001b[0;36m__enter__\u001b[1;34m(self)\u001b[0m\n\u001b[0;32m    117\u001b[0m         \u001b[1;32mdel\u001b[0m \u001b[0mself\u001b[0m\u001b[1;33m.\u001b[0m\u001b[0margs\u001b[0m\u001b[1;33m,\u001b[0m \u001b[0mself\u001b[0m\u001b[1;33m.\u001b[0m\u001b[0mkwds\u001b[0m\u001b[1;33m,\u001b[0m \u001b[0mself\u001b[0m\u001b[1;33m.\u001b[0m\u001b[0mfunc\u001b[0m\u001b[1;33m\u001b[0m\u001b[1;33m\u001b[0m\u001b[0m\n\u001b[0;32m    118\u001b[0m         \u001b[1;32mtry\u001b[0m\u001b[1;33m:\u001b[0m\u001b[1;33m\u001b[0m\u001b[1;33m\u001b[0m\u001b[0m\n\u001b[1;32m--> 119\u001b[1;33m             \u001b[1;32mreturn\u001b[0m \u001b[0mnext\u001b[0m\u001b[1;33m(\u001b[0m\u001b[0mself\u001b[0m\u001b[1;33m.\u001b[0m\u001b[0mgen\u001b[0m\u001b[1;33m)\u001b[0m\u001b[1;33m\u001b[0m\u001b[1;33m\u001b[0m\u001b[0m\n\u001b[0m\u001b[0;32m    120\u001b[0m         \u001b[1;32mexcept\u001b[0m \u001b[0mStopIteration\u001b[0m\u001b[1;33m:\u001b[0m\u001b[1;33m\u001b[0m\u001b[1;33m\u001b[0m\u001b[0m\n\u001b[0;32m    121\u001b[0m             \u001b[1;32mraise\u001b[0m \u001b[0mRuntimeError\u001b[0m\u001b[1;33m(\u001b[0m\u001b[1;34m\"generator didn't yield\"\u001b[0m\u001b[1;33m)\u001b[0m \u001b[1;32mfrom\u001b[0m \u001b[1;32mNone\u001b[0m\u001b[1;33m\u001b[0m\u001b[1;33m\u001b[0m\u001b[0m\n",
      "\u001b[1;32m~\\anaconda3\\lib\\site-packages\\pymongo\\mongo_client.py\u001b[0m in \u001b[0;36m_tmp_session\u001b[1;34m(self, session, close)\u001b[0m\n\u001b[0;32m   1946\u001b[0m             \u001b[1;32mreturn\u001b[0m\u001b[1;33m\u001b[0m\u001b[1;33m\u001b[0m\u001b[0m\n\u001b[0;32m   1947\u001b[0m \u001b[1;33m\u001b[0m\u001b[0m\n\u001b[1;32m-> 1948\u001b[1;33m         \u001b[0ms\u001b[0m \u001b[1;33m=\u001b[0m \u001b[0mself\u001b[0m\u001b[1;33m.\u001b[0m\u001b[0m_ensure_session\u001b[0m\u001b[1;33m(\u001b[0m\u001b[0msession\u001b[0m\u001b[1;33m)\u001b[0m\u001b[1;33m\u001b[0m\u001b[1;33m\u001b[0m\u001b[0m\n\u001b[0m\u001b[0;32m   1949\u001b[0m         \u001b[1;32mif\u001b[0m \u001b[0ms\u001b[0m\u001b[1;33m:\u001b[0m\u001b[1;33m\u001b[0m\u001b[1;33m\u001b[0m\u001b[0m\n\u001b[0;32m   1950\u001b[0m             \u001b[1;32mtry\u001b[0m\u001b[1;33m:\u001b[0m\u001b[1;33m\u001b[0m\u001b[1;33m\u001b[0m\u001b[0m\n",
      "\u001b[1;32m~\\anaconda3\\lib\\site-packages\\pymongo\\mongo_client.py\u001b[0m in \u001b[0;36m_ensure_session\u001b[1;34m(self, session)\u001b[0m\n\u001b[0;32m   1933\u001b[0m             \u001b[1;31m# Don't make implicit sessions causally consistent. Applications\u001b[0m\u001b[1;33m\u001b[0m\u001b[1;33m\u001b[0m\u001b[0m\n\u001b[0;32m   1934\u001b[0m             \u001b[1;31m# should always opt-in.\u001b[0m\u001b[1;33m\u001b[0m\u001b[1;33m\u001b[0m\u001b[0m\n\u001b[1;32m-> 1935\u001b[1;33m             \u001b[1;32mreturn\u001b[0m \u001b[0mself\u001b[0m\u001b[1;33m.\u001b[0m\u001b[0m__start_session\u001b[0m\u001b[1;33m(\u001b[0m\u001b[1;32mTrue\u001b[0m\u001b[1;33m,\u001b[0m \u001b[0mcausal_consistency\u001b[0m\u001b[1;33m=\u001b[0m\u001b[1;32mFalse\u001b[0m\u001b[1;33m)\u001b[0m\u001b[1;33m\u001b[0m\u001b[1;33m\u001b[0m\u001b[0m\n\u001b[0m\u001b[0;32m   1936\u001b[0m         \u001b[1;32mexcept\u001b[0m \u001b[1;33m(\u001b[0m\u001b[0mConfigurationError\u001b[0m\u001b[1;33m,\u001b[0m \u001b[0mInvalidOperation\u001b[0m\u001b[1;33m)\u001b[0m\u001b[1;33m:\u001b[0m\u001b[1;33m\u001b[0m\u001b[1;33m\u001b[0m\u001b[0m\n\u001b[0;32m   1937\u001b[0m             \u001b[1;31m# Sessions not supported, or multiple users authenticated.\u001b[0m\u001b[1;33m\u001b[0m\u001b[1;33m\u001b[0m\u001b[0m\n",
      "\u001b[1;32m~\\anaconda3\\lib\\site-packages\\pymongo\\mongo_client.py\u001b[0m in \u001b[0;36m__start_session\u001b[1;34m(self, implicit, **kwargs)\u001b[0m\n\u001b[0;32m   1881\u001b[0m \u001b[1;33m\u001b[0m\u001b[0m\n\u001b[0;32m   1882\u001b[0m         \u001b[1;31m# Raises ConfigurationError if sessions are not supported.\u001b[0m\u001b[1;33m\u001b[0m\u001b[1;33m\u001b[0m\u001b[0m\n\u001b[1;32m-> 1883\u001b[1;33m         \u001b[0mserver_session\u001b[0m \u001b[1;33m=\u001b[0m \u001b[0mself\u001b[0m\u001b[1;33m.\u001b[0m\u001b[0m_get_server_session\u001b[0m\u001b[1;33m(\u001b[0m\u001b[1;33m)\u001b[0m\u001b[1;33m\u001b[0m\u001b[1;33m\u001b[0m\u001b[0m\n\u001b[0m\u001b[0;32m   1884\u001b[0m         \u001b[0mopts\u001b[0m \u001b[1;33m=\u001b[0m \u001b[0mclient_session\u001b[0m\u001b[1;33m.\u001b[0m\u001b[0mSessionOptions\u001b[0m\u001b[1;33m(\u001b[0m\u001b[1;33m**\u001b[0m\u001b[0mkwargs\u001b[0m\u001b[1;33m)\u001b[0m\u001b[1;33m\u001b[0m\u001b[1;33m\u001b[0m\u001b[0m\n\u001b[0;32m   1885\u001b[0m         return client_session.ClientSession(\n",
      "\u001b[1;32m~\\anaconda3\\lib\\site-packages\\pymongo\\mongo_client.py\u001b[0m in \u001b[0;36m_get_server_session\u001b[1;34m(self)\u001b[0m\n\u001b[0;32m   1919\u001b[0m     \u001b[1;32mdef\u001b[0m \u001b[0m_get_server_session\u001b[0m\u001b[1;33m(\u001b[0m\u001b[0mself\u001b[0m\u001b[1;33m)\u001b[0m\u001b[1;33m:\u001b[0m\u001b[1;33m\u001b[0m\u001b[1;33m\u001b[0m\u001b[0m\n\u001b[0;32m   1920\u001b[0m         \u001b[1;34m\"\"\"Internal: start or resume a _ServerSession.\"\"\"\u001b[0m\u001b[1;33m\u001b[0m\u001b[1;33m\u001b[0m\u001b[0m\n\u001b[1;32m-> 1921\u001b[1;33m         \u001b[1;32mreturn\u001b[0m \u001b[0mself\u001b[0m\u001b[1;33m.\u001b[0m\u001b[0m_topology\u001b[0m\u001b[1;33m.\u001b[0m\u001b[0mget_server_session\u001b[0m\u001b[1;33m(\u001b[0m\u001b[1;33m)\u001b[0m\u001b[1;33m\u001b[0m\u001b[1;33m\u001b[0m\u001b[0m\n\u001b[0m\u001b[0;32m   1922\u001b[0m \u001b[1;33m\u001b[0m\u001b[0m\n\u001b[0;32m   1923\u001b[0m     \u001b[1;32mdef\u001b[0m \u001b[0m_return_server_session\u001b[0m\u001b[1;33m(\u001b[0m\u001b[0mself\u001b[0m\u001b[1;33m,\u001b[0m \u001b[0mserver_session\u001b[0m\u001b[1;33m,\u001b[0m \u001b[0mlock\u001b[0m\u001b[1;33m)\u001b[0m\u001b[1;33m:\u001b[0m\u001b[1;33m\u001b[0m\u001b[1;33m\u001b[0m\u001b[0m\n",
      "\u001b[1;32m~\\anaconda3\\lib\\site-packages\\pymongo\\topology.py\u001b[0m in \u001b[0;36mget_server_session\u001b[1;34m(self)\u001b[0m\n\u001b[0;32m    518\u001b[0m             \u001b[1;31m# Sessions are always supported in load balanced mode.\u001b[0m\u001b[1;33m\u001b[0m\u001b[1;33m\u001b[0m\u001b[0m\n\u001b[0;32m    519\u001b[0m             \u001b[1;32mif\u001b[0m \u001b[1;32mnot\u001b[0m \u001b[0mself\u001b[0m\u001b[1;33m.\u001b[0m\u001b[0m_settings\u001b[0m\u001b[1;33m.\u001b[0m\u001b[0mload_balanced\u001b[0m\u001b[1;33m:\u001b[0m\u001b[1;33m\u001b[0m\u001b[1;33m\u001b[0m\u001b[0m\n\u001b[1;32m--> 520\u001b[1;33m                 \u001b[0msession_timeout\u001b[0m \u001b[1;33m=\u001b[0m \u001b[0mself\u001b[0m\u001b[1;33m.\u001b[0m\u001b[0m_check_session_support\u001b[0m\u001b[1;33m(\u001b[0m\u001b[1;33m)\u001b[0m\u001b[1;33m\u001b[0m\u001b[1;33m\u001b[0m\u001b[0m\n\u001b[0m\u001b[0;32m    521\u001b[0m             \u001b[1;32melse\u001b[0m\u001b[1;33m:\u001b[0m\u001b[1;33m\u001b[0m\u001b[1;33m\u001b[0m\u001b[0m\n\u001b[0;32m    522\u001b[0m                 \u001b[1;31m# Sessions never time out in load balanced mode.\u001b[0m\u001b[1;33m\u001b[0m\u001b[1;33m\u001b[0m\u001b[0m\n",
      "\u001b[1;32m~\\anaconda3\\lib\\site-packages\\pymongo\\topology.py\u001b[0m in \u001b[0;36m_check_session_support\u001b[1;34m(self)\u001b[0m\n\u001b[0;32m    497\u001b[0m             \u001b[1;32mif\u001b[0m \u001b[0mself\u001b[0m\u001b[1;33m.\u001b[0m\u001b[0m_description\u001b[0m\u001b[1;33m.\u001b[0m\u001b[0mtopology_type\u001b[0m \u001b[1;33m==\u001b[0m \u001b[0mTOPOLOGY_TYPE\u001b[0m\u001b[1;33m.\u001b[0m\u001b[0mSingle\u001b[0m\u001b[1;33m:\u001b[0m\u001b[1;33m\u001b[0m\u001b[1;33m\u001b[0m\u001b[0m\n\u001b[0;32m    498\u001b[0m                 \u001b[1;32mif\u001b[0m \u001b[1;32mnot\u001b[0m \u001b[0mself\u001b[0m\u001b[1;33m.\u001b[0m\u001b[0m_description\u001b[0m\u001b[1;33m.\u001b[0m\u001b[0mhas_known_servers\u001b[0m\u001b[1;33m:\u001b[0m\u001b[1;33m\u001b[0m\u001b[1;33m\u001b[0m\u001b[0m\n\u001b[1;32m--> 499\u001b[1;33m                     self._select_servers_loop(\n\u001b[0m\u001b[0;32m    500\u001b[0m                         \u001b[0many_server_selector\u001b[0m\u001b[1;33m,\u001b[0m\u001b[1;33m\u001b[0m\u001b[1;33m\u001b[0m\u001b[0m\n\u001b[0;32m    501\u001b[0m                         \u001b[0mself\u001b[0m\u001b[1;33m.\u001b[0m\u001b[0m_settings\u001b[0m\u001b[1;33m.\u001b[0m\u001b[0mserver_selection_timeout\u001b[0m\u001b[1;33m,\u001b[0m\u001b[1;33m\u001b[0m\u001b[1;33m\u001b[0m\u001b[0m\n",
      "\u001b[1;32m~\\anaconda3\\lib\\site-packages\\pymongo\\topology.py\u001b[0m in \u001b[0;36m_select_servers_loop\u001b[1;34m(self, selector, timeout, address)\u001b[0m\n\u001b[0;32m    216\u001b[0m             \u001b[1;31m# No suitable servers.\u001b[0m\u001b[1;33m\u001b[0m\u001b[1;33m\u001b[0m\u001b[0m\n\u001b[0;32m    217\u001b[0m             \u001b[1;32mif\u001b[0m \u001b[0mtimeout\u001b[0m \u001b[1;33m==\u001b[0m \u001b[1;36m0\u001b[0m \u001b[1;32mor\u001b[0m \u001b[0mnow\u001b[0m \u001b[1;33m>\u001b[0m \u001b[0mend_time\u001b[0m\u001b[1;33m:\u001b[0m\u001b[1;33m\u001b[0m\u001b[1;33m\u001b[0m\u001b[0m\n\u001b[1;32m--> 218\u001b[1;33m                 raise ServerSelectionTimeoutError(\n\u001b[0m\u001b[0;32m    219\u001b[0m                     \u001b[1;34m\"%s, Timeout: %ss, Topology Description: %r\"\u001b[0m \u001b[1;33m%\u001b[0m\u001b[1;33m\u001b[0m\u001b[1;33m\u001b[0m\u001b[0m\n\u001b[0;32m    220\u001b[0m                     (self._error_message(selector), timeout, self.description))\n",
      "\u001b[1;31mServerSelectionTimeoutError\u001b[0m: 10.3.24.241:27017: timed out, Timeout: 30s, Topology Description: <TopologyDescription id: 63ecfe4b64018be114b9f621, topology_type: Single, servers: [<ServerDescription ('10.3.24.241', 27017) server_type: Unknown, rtt: None, error=NetworkTimeout('10.3.24.241:27017: timed out')>]>"
     ]
    }
   ],
   "source": [
    "# Grp 6: Database I/O\n",
    "\n",
    "from pymongo import MongoClient\n",
    "client=MongoClient('10.3.24.241')\n",
    "# Create Database\n",
    "friends=client.CS20051685.friends\n",
    "friends.insert_one({'name':'Shikha',\n",
    "                   'year':2017\n",
    "                   })\n",
    "friends.insert_one({'name':'Vinod',\n",
    "                   'year':2012\n",
    "                   })\n",
    "friends.insert_one({'name':'Rajiv',\n",
    "                   'year':2021\n",
    "                   })\n",
    "# Search Database\n",
    "print('People I came to know after 2015')\n",
    "results=friends.find({'year':{'$gt':2015}})\n",
    "for f in results:\n",
    "    print(f['name'],'since',f['year'])\n",
    "\n",
    "# Update Database\n",
    "friends.update_one({'name':'Rajiv'},\n",
    "                  {'$set':{'year':2019}})\n",
    "for f in friends.find():\n",
    "    print('I know',f['name'],'since',f['year'])"
   ]
  },
  {
   "cell_type": "code",
   "execution_count": null,
   "id": "154e8949",
   "metadata": {},
   "outputs": [],
   "source": []
  }
 ],
 "metadata": {
  "kernelspec": {
   "display_name": "Python 3 (ipykernel)",
   "language": "python",
   "name": "python3"
  },
  "language_info": {
   "codemirror_mode": {
    "name": "ipython",
    "version": 3
   },
   "file_extension": ".py",
   "mimetype": "text/x-python",
   "name": "python",
   "nbconvert_exporter": "python",
   "pygments_lexer": "ipython3",
   "version": "3.9.13"
  }
 },
 "nbformat": 4,
 "nbformat_minor": 5
}
