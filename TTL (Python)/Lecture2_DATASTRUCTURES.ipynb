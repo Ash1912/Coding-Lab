{
 "cells": [
  {
   "cell_type": "code",
   "execution_count": 20,
   "id": "98d8082d",
   "metadata": {},
   "outputs": [
    {
     "name": "stdout",
     "output_type": "stream",
     "text": [
      "<class 'list'>\n",
      "[1, 2, 3, 4]\n"
     ]
    }
   ],
   "source": [
    "a = [1,2,3,4]\n",
    "print(type(a))\n",
    "print(a)"
   ]
  },
  {
   "cell_type": "code",
   "execution_count": 21,
   "id": "52433a76",
   "metadata": {},
   "outputs": [
    {
     "name": "stdout",
     "output_type": "stream",
     "text": [
      "<class 'int'>\n",
      "4\n"
     ]
    }
   ],
   "source": [
    "print(type(a[3]))\n",
    "print(a[3])"
   ]
  },
  {
   "cell_type": "code",
   "execution_count": 22,
   "id": "5cf2ec54",
   "metadata": {},
   "outputs": [
    {
     "name": "stdout",
     "output_type": "stream",
     "text": [
      "1 1\n",
      "2 4\n",
      "3 9\n",
      "4 16\n"
     ]
    }
   ],
   "source": [
    "for n in a:\n",
    "    print(n, n*n)\n",
    "#     n is the value in array"
   ]
  },
  {
   "cell_type": "code",
   "execution_count": 23,
   "id": "c8b34336",
   "metadata": {},
   "outputs": [
    {
     "name": "stdout",
     "output_type": "stream",
     "text": [
      "[1, 2, 3, 4]\n",
      "[1, 2, 3, 5]\n"
     ]
    }
   ],
   "source": [
    "print(a)\n",
    "a[3]=5\n",
    "print(a)"
   ]
  },
  {
   "cell_type": "code",
   "execution_count": 5,
   "id": "6895fce2",
   "metadata": {},
   "outputs": [
    {
     "name": "stdout",
     "output_type": "stream",
     "text": [
      "Help on list object:\n",
      "\n",
      "class list(object)\n",
      " |  list(iterable=(), /)\n",
      " |  \n",
      " |  Built-in mutable sequence.\n",
      " |  \n",
      " |  If no argument is given, the constructor creates a new empty list.\n",
      " |  The argument must be an iterable if specified.\n",
      " |  \n",
      " |  Methods defined here:\n",
      " |  \n",
      " |  __add__(self, value, /)\n",
      " |      Return self+value.\n",
      " |  \n",
      " |  __contains__(self, key, /)\n",
      " |      Return key in self.\n",
      " |  \n",
      " |  __delitem__(self, key, /)\n",
      " |      Delete self[key].\n",
      " |  \n",
      " |  __eq__(self, value, /)\n",
      " |      Return self==value.\n",
      " |  \n",
      " |  __ge__(self, value, /)\n",
      " |      Return self>=value.\n",
      " |  \n",
      " |  __getattribute__(self, name, /)\n",
      " |      Return getattr(self, name).\n",
      " |  \n",
      " |  __getitem__(...)\n",
      " |      x.__getitem__(y) <==> x[y]\n",
      " |  \n",
      " |  __gt__(self, value, /)\n",
      " |      Return self>value.\n",
      " |  \n",
      " |  __iadd__(self, value, /)\n",
      " |      Implement self+=value.\n",
      " |  \n",
      " |  __imul__(self, value, /)\n",
      " |      Implement self*=value.\n",
      " |  \n",
      " |  __init__(self, /, *args, **kwargs)\n",
      " |      Initialize self.  See help(type(self)) for accurate signature.\n",
      " |  \n",
      " |  __iter__(self, /)\n",
      " |      Implement iter(self).\n",
      " |  \n",
      " |  __le__(self, value, /)\n",
      " |      Return self<=value.\n",
      " |  \n",
      " |  __len__(self, /)\n",
      " |      Return len(self).\n",
      " |  \n",
      " |  __lt__(self, value, /)\n",
      " |      Return self<value.\n",
      " |  \n",
      " |  __mul__(self, value, /)\n",
      " |      Return self*value.\n",
      " |  \n",
      " |  __ne__(self, value, /)\n",
      " |      Return self!=value.\n",
      " |  \n",
      " |  __repr__(self, /)\n",
      " |      Return repr(self).\n",
      " |  \n",
      " |  __reversed__(self, /)\n",
      " |      Return a reverse iterator over the list.\n",
      " |  \n",
      " |  __rmul__(self, value, /)\n",
      " |      Return value*self.\n",
      " |  \n",
      " |  __setitem__(self, key, value, /)\n",
      " |      Set self[key] to value.\n",
      " |  \n",
      " |  __sizeof__(self, /)\n",
      " |      Return the size of the list in memory, in bytes.\n",
      " |  \n",
      " |  append(self, object, /)\n",
      " |      Append object to the end of the list.\n",
      " |  \n",
      " |  clear(self, /)\n",
      " |      Remove all items from list.\n",
      " |  \n",
      " |  copy(self, /)\n",
      " |      Return a shallow copy of the list.\n",
      " |  \n",
      " |  count(self, value, /)\n",
      " |      Return number of occurrences of value.\n",
      " |  \n",
      " |  extend(self, iterable, /)\n",
      " |      Extend list by appending elements from the iterable.\n",
      " |  \n",
      " |  index(self, value, start=0, stop=9223372036854775807, /)\n",
      " |      Return first index of value.\n",
      " |      \n",
      " |      Raises ValueError if the value is not present.\n",
      " |  \n",
      " |  insert(self, index, object, /)\n",
      " |      Insert object before index.\n",
      " |  \n",
      " |  pop(self, index=-1, /)\n",
      " |      Remove and return item at index (default last).\n",
      " |      \n",
      " |      Raises IndexError if list is empty or index is out of range.\n",
      " |  \n",
      " |  remove(self, value, /)\n",
      " |      Remove first occurrence of value.\n",
      " |      \n",
      " |      Raises ValueError if the value is not present.\n",
      " |  \n",
      " |  reverse(self, /)\n",
      " |      Reverse *IN PLACE*.\n",
      " |  \n",
      " |  sort(self, /, *, key=None, reverse=False)\n",
      " |      Sort the list in ascending order and return None.\n",
      " |      \n",
      " |      The sort is in-place (i.e. the list itself is modified) and stable (i.e. the\n",
      " |      order of two equal elements is maintained).\n",
      " |      \n",
      " |      If a key function is given, apply it once to each list item and sort them,\n",
      " |      ascending or descending, according to their function values.\n",
      " |      \n",
      " |      The reverse flag can be set to sort in descending order.\n",
      " |  \n",
      " |  ----------------------------------------------------------------------\n",
      " |  Class methods defined here:\n",
      " |  \n",
      " |  __class_getitem__(...) from builtins.type\n",
      " |      See PEP 585\n",
      " |  \n",
      " |  ----------------------------------------------------------------------\n",
      " |  Static methods defined here:\n",
      " |  \n",
      " |  __new__(*args, **kwargs) from builtins.type\n",
      " |      Create and return a new object.  See help(type) for accurate signature.\n",
      " |  \n",
      " |  ----------------------------------------------------------------------\n",
      " |  Data and other attributes defined here:\n",
      " |  \n",
      " |  __hash__ = None\n",
      "\n"
     ]
    }
   ],
   "source": [
    "help(a)\n",
    "# It tells what are the operations performed on a"
   ]
  },
  {
   "cell_type": "code",
   "execution_count": 24,
   "id": "2ad85e9b",
   "metadata": {},
   "outputs": [
    {
     "name": "stdout",
     "output_type": "stream",
     "text": [
      "[1, 2, 3, 5]\n",
      "[1, 2, 3, 5, 'apple']\n"
     ]
    }
   ],
   "source": [
    "print(a)\n",
    "a.append('apple')\n",
    "print(a)"
   ]
  },
  {
   "cell_type": "code",
   "execution_count": 25,
   "id": "0959fe16",
   "metadata": {},
   "outputs": [
    {
     "name": "stdout",
     "output_type": "stream",
     "text": [
      "[1, 2, 3, 5, 'apple']\n",
      "[1, 2, 3, 5, 'apple', [20051685, 'Ashish']]\n"
     ]
    }
   ],
   "source": [
    "print(a)\n",
    "a.append([20051685,'Ashish'])\n",
    "print(a)"
   ]
  },
  {
   "cell_type": "code",
   "execution_count": 26,
   "id": "4f98ef1e",
   "metadata": {},
   "outputs": [
    {
     "name": "stdout",
     "output_type": "stream",
     "text": [
      "[20051685, 'Ashish']\n",
      "[1, 2, 3, 5, 'apple']\n",
      "apple\n",
      "[1, 2, 3, 5]\n"
     ]
    }
   ],
   "source": [
    "print(a.pop())\n",
    "print(a)\n",
    "print(a.pop())\n",
    "print(a)"
   ]
  },
  {
   "cell_type": "code",
   "execution_count": 17,
   "id": "36b32c18",
   "metadata": {},
   "outputs": [],
   "source": [
    "b=(1,2,3,4)"
   ]
  },
  {
   "cell_type": "code",
   "execution_count": 14,
   "id": "82dc7c6b",
   "metadata": {},
   "outputs": [
    {
     "name": "stdout",
     "output_type": "stream",
     "text": [
      "<class 'tuple'>\n",
      "(1, 2, 3, 4)\n"
     ]
    }
   ],
   "source": [
    "print(type(b))\n",
    "print(b)"
   ]
  },
  {
   "cell_type": "code",
   "execution_count": 15,
   "id": "28735c1c",
   "metadata": {},
   "outputs": [
    {
     "ename": "TypeError",
     "evalue": "'tuple' object does not support item assignment",
     "output_type": "error",
     "traceback": [
      "\u001b[1;31m---------------------------------------------------------------------------\u001b[0m",
      "\u001b[1;31mTypeError\u001b[0m                                 Traceback (most recent call last)",
      "\u001b[1;32m~\\AppData\\Local\\Temp\\ipykernel_2196\\3617351956.py\u001b[0m in \u001b[0;36m<module>\u001b[1;34m\u001b[0m\n\u001b[1;32m----> 1\u001b[1;33m \u001b[0mb\u001b[0m\u001b[1;33m[\u001b[0m\u001b[1;36m3\u001b[0m\u001b[1;33m]\u001b[0m\u001b[1;33m=\u001b[0m\u001b[1;36m5\u001b[0m\u001b[1;33m\u001b[0m\u001b[1;33m\u001b[0m\u001b[0m\n\u001b[0m",
      "\u001b[1;31mTypeError\u001b[0m: 'tuple' object does not support item assignment"
     ]
    }
   ],
   "source": [
    "b[3]=5\n",
    "# We cannot rewrite the value in tuple"
   ]
  },
  {
   "cell_type": "code",
   "execution_count": 27,
   "id": "a3018ea9",
   "metadata": {},
   "outputs": [
    {
     "name": "stdout",
     "output_type": "stream",
     "text": [
      "<class 'dict'>\n",
      "{'Bihar': 'Patna', 'UP': 'Lucknow', 'Odisha': 'Bhubaneswar', 'WB': 'Kolkata'}\n"
     ]
    }
   ],
   "source": [
    "# Dictionary\n",
    "c={ \n",
    "    'Bihar':'Patna',\n",
    "    'UP':'Lucknow',\n",
    "    'Odisha':'Bhubaneswar',\n",
    "    'WB':'Kolkata'\n",
    "}\n",
    "print(type(c))\n",
    "print(c)"
   ]
  },
  {
   "cell_type": "code",
   "execution_count": 28,
   "id": "6b32b33d",
   "metadata": {},
   "outputs": [
    {
     "name": "stdout",
     "output_type": "stream",
     "text": [
      "Bihar -> Patna\n",
      "UP -> Lucknow\n",
      "Odisha -> Bhubaneswar\n",
      "WB -> Kolkata\n"
     ]
    }
   ],
   "source": [
    "for key in c:\n",
    "    print(key,'->',c[key])"
   ]
  },
  {
   "cell_type": "code",
   "execution_count": 30,
   "id": "dd120b1d",
   "metadata": {},
   "outputs": [
    {
     "name": "stdout",
     "output_type": "stream",
     "text": [
      "True\n"
     ]
    }
   ],
   "source": [
    "print('WB' in c)"
   ]
  },
  {
   "cell_type": "code",
   "execution_count": 31,
   "id": "f97144ab",
   "metadata": {},
   "outputs": [
    {
     "name": "stdout",
     "output_type": "stream",
     "text": [
      "False\n"
     ]
    }
   ],
   "source": [
    "print('Uttar Pradesh' in c)\n"
   ]
  },
  {
   "cell_type": "code",
   "execution_count": 62,
   "id": "04293e8b",
   "metadata": {},
   "outputs": [
    {
     "name": "stdout",
     "output_type": "stream",
     "text": [
      "Ashish Says Hello\n",
      "Ashish Marks obtained in: 85 out of 100\n",
      "Ashish Marks obtained in: 81 out of 100\n",
      "Ashish Marks obtained in: 90 out of 100\n",
      "Ashish obtained 256 out of 300\n"
     ]
    }
   ],
   "source": [
    "#define a class\n",
    "class Student:\n",
    "    def __init__(self, name):\n",
    "        self.name = name\n",
    "        self.marks = {}\n",
    "#         self.int_marks = {}\n",
    "#         self.ext_marks = {}\n",
    "        \n",
    "    def greet(self):\n",
    "        print(self.name,'Says Hello')\n",
    "    \n",
    "    def addMarks(self, sub, marks):\n",
    "        self.marks[sub] = marks\n",
    "#         print('Marks obtained in:',self.marks[sub])\n",
    "#     def addinternalMarks(self, sub, int_marks)\n",
    "#         self.int_marks[sub] = int_marks\n",
    "#     def addexternalMarks(self, sub, ext_marks)\n",
    "#         self.ext_marks[sub] = ext_marks\n",
    "    \n",
    "    def printTotal(self):\n",
    "        total = 0\n",
    "        maximum = 0\n",
    "        for key in self.marks:\n",
    "            total += self.marks[key]\n",
    "            maximum += 100\n",
    "            print(self.name,'Marks obtained in:',self.marks[key],'out of',100)\n",
    "        print(self.name,'obtained',total,'out of',maximum)\n",
    "s1=Student('Ashish')\n",
    "s1.greet()\n",
    "s1.addMarks('CD',85)\n",
    "s1.addMarks('CC',81)\n",
    "s1.addMarks('CE',90)\n",
    "s1.printTotal()"
   ]
  },
  {
   "cell_type": "code",
   "execution_count": 67,
   "id": "087fbd69",
   "metadata": {},
   "outputs": [
    {
     "name": "stdout",
     "output_type": "stream",
     "text": [
      "Ashish Says Hello\n",
      "Ashish Marks obtained in: CD => [40, 45] = 85 out of 100\n",
      "Ashish Marks obtained in: CC => [40, 41] = 81 out of 100\n",
      "Ashish Marks obtained in: CE => [45, 45] = 90 out of 100\n",
      "Ashish obtained 256 out of 300\n"
     ]
    }
   ],
   "source": [
    "#define a class\n",
    "class Student:\n",
    "    def __init__(self, name):\n",
    "        self.name = name\n",
    "        self.marks = {}\n",
    "      \n",
    "        \n",
    "    def greet(self):\n",
    "        print(self.name,'Says Hello')\n",
    "    \n",
    "    def addMarks(self, sub, *marks):\n",
    "        self.marks[sub] = [*marks]\n",
    "#         print('Marks obtained in:',self.marks[sub])\n",
    "\n",
    "    def printTotal(self):\n",
    "        total = 0\n",
    "        maximum = 0\n",
    "        for key in self.marks:\n",
    "            total += sum(self.marks[key])\n",
    "            maximum += 100\n",
    "            print(self.name,'Marks obtained in:',key,'=>', self.marks[key],'=',sum(self.marks[key]),'out of',100)\n",
    "        print(self.name,'obtained',total,'out of',maximum)\n",
    "s1=Student('Ashish')\n",
    "s1.greet()\n",
    "s1.addMarks('CD',40,45)\n",
    "s1.addMarks('CC',40,41)\n",
    "s1.addMarks('CE',45,45)\n",
    "s1.printTotal()\n",
    "# students = []\n",
    "# students.append(s1)\n",
    "# students.append(s2)"
   ]
  },
  {
   "cell_type": "code",
   "execution_count": null,
   "id": "fe39d708",
   "metadata": {},
   "outputs": [],
   "source": []
  }
 ],
 "metadata": {
  "kernelspec": {
   "display_name": "Python 3 (ipykernel)",
   "language": "python",
   "name": "python3"
  },
  "language_info": {
   "codemirror_mode": {
    "name": "ipython",
    "version": 3
   },
   "file_extension": ".py",
   "mimetype": "text/x-python",
   "name": "python",
   "nbconvert_exporter": "python",
   "pygments_lexer": "ipython3",
   "version": "3.9.13"
  }
 },
 "nbformat": 4,
 "nbformat_minor": 5
}
