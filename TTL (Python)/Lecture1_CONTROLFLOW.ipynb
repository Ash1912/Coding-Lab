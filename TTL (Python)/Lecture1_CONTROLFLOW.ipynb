{
 "cells": [
  {
   "cell_type": "code",
   "execution_count": 3,
   "id": "654a7dc8",
   "metadata": {},
   "outputs": [
    {
     "data": {
      "text/plain": [
       "7"
      ]
     },
     "execution_count": 3,
     "metadata": {},
     "output_type": "execute_result"
    }
   ],
   "source": [
    "3+4\n"
   ]
  },
  {
   "cell_type": "code",
   "execution_count": 4,
   "id": "8c1a9149",
   "metadata": {},
   "outputs": [
    {
     "ename": "NameError",
     "evalue": "name 'true' is not defined",
     "output_type": "error",
     "traceback": [
      "\u001b[1;31m---------------------------------------------------------------------------\u001b[0m",
      "\u001b[1;31mNameError\u001b[0m                                 Traceback (most recent call last)",
      "Cell \u001b[1;32mIn[4], line 1\u001b[0m\n\u001b[1;32m----> 1\u001b[0m \u001b[38;5;28;01mwhile\u001b[39;00m true: a\u001b[38;5;241m=\u001b[39m\u001b[38;5;241m10\u001b[39m\n",
      "\u001b[1;31mNameError\u001b[0m: name 'true' is not defined"
     ]
    }
   ],
   "source": [
    "while true: a=10"
   ]
  },
  {
   "cell_type": "code",
   "execution_count": 5,
   "id": "04537d8a",
   "metadata": {},
   "outputs": [
    {
     "data": {
      "text/plain": [
       "7"
      ]
     },
     "execution_count": 5,
     "metadata": {},
     "output_type": "execute_result"
    }
   ],
   "source": [
    "3+4\n"
   ]
  },
  {
   "cell_type": "code",
   "execution_count": 6,
   "id": "1b7c74a8",
   "metadata": {},
   "outputs": [
    {
     "ename": "NameError",
     "evalue": "name 'true' is not defined",
     "output_type": "error",
     "traceback": [
      "\u001b[1;31m---------------------------------------------------------------------------\u001b[0m",
      "\u001b[1;31mNameError\u001b[0m                                 Traceback (most recent call last)",
      "Cell \u001b[1;32mIn[6], line 1\u001b[0m\n\u001b[1;32m----> 1\u001b[0m \u001b[38;5;28;01mwhile\u001b[39;00m true: a\u001b[38;5;241m=\u001b[39m\u001b[38;5;241m10\u001b[39m\n",
      "\u001b[1;31mNameError\u001b[0m: name 'true' is not defined"
     ]
    }
   ],
   "source": [
    "while true: a=10"
   ]
  },
  {
   "cell_type": "code",
   "execution_count": 7,
   "id": "6a923f6b",
   "metadata": {},
   "outputs": [
    {
     "name": "stdout",
     "output_type": "stream",
     "text": [
      "100\n",
      "1000.0\n",
      "Ashish\n"
     ]
    }
   ],
   "source": [
    "counter = 100\n",
    "miles = 1000.0\n",
    "name = \"Ashish\"\n",
    "\n",
    "print (counter)\n",
    "print (miles)\n",
    "print (name)\n"
   ]
  },
  {
   "cell_type": "code",
   "execution_count": 8,
   "id": "ae3246f0",
   "metadata": {},
   "outputs": [
    {
     "name": "stdout",
     "output_type": "stream",
     "text": [
      "200\n",
      "2000.0\n",
      "AshishAshish\n"
     ]
    }
   ],
   "source": [
    "counter = 100\n",
    "miles = 1000.0\n",
    "name = \"Ashish\"\n",
    "\n",
    "print (2*counter)\n",
    "print (2*miles)\n",
    "print (2*name)\n"
   ]
  },
  {
   "cell_type": "code",
   "execution_count": 9,
   "id": "9fae08b6",
   "metadata": {},
   "outputs": [
    {
     "name": "stdout",
     "output_type": "stream",
     "text": [
      "a+b = 30\n",
      "a-b = -10\n",
      "a*b = 200\n",
      "a%b = 10\n"
     ]
    }
   ],
   "source": [
    "a=10\n",
    "b=20\n",
    "print('a+b =', a+b)\n",
    "print('a-b =', a-b)\n",
    "print('a*b =', a*b)\n",
    "print('a%b =', a%b)"
   ]
  },
  {
   "cell_type": "code",
   "execution_count": 10,
   "id": "3b6685a7",
   "metadata": {},
   "outputs": [
    {
     "name": "stdout",
     "output_type": "stream",
     "text": [
      "T and T = True\n",
      "T and F = False\n",
      "F and F = False\n",
      "\n",
      "T or T = True\n",
      "T or F = True\n",
      "F or !F = True\n"
     ]
    }
   ],
   "source": [
    "print('T and T =', True and True)\n",
    "print('T and F =', True and False)\n",
    "print('F and F =', False and False)\n",
    "print()\n",
    "print('T or T =', True or True)\n",
    "print('T or F =', True or False)\n",
    "print('F or !F =', False or not False)"
   ]
  },
  {
   "cell_type": "code",
   "execution_count": 11,
   "id": "1e87e1f8",
   "metadata": {},
   "outputs": [
    {
     "name": "stdout",
     "output_type": "stream",
     "text": [
      "print 3-4: -1\n",
      "print 4-3: 1\n"
     ]
    }
   ],
   "source": [
    "def subtract(a,b):\n",
    "    return a-b\n",
    "\n",
    "print('print 3-4:',subtract(3,4))\n",
    "print('print 4-3:',subtract(b=3,a=4))"
   ]
  },
  {
   "cell_type": "code",
   "execution_count": 12,
   "id": "0f5ec8c2",
   "metadata": {},
   "outputs": [
    {
     "name": "stdout",
     "output_type": "stream",
     "text": [
      "cube of 5 = 125\n"
     ]
    }
   ],
   "source": [
    "def cube(x):\n",
    "    return x*x*x\n",
    "print('cube of 5 =',\n",
    "     cube(5))"
   ]
  },
  {
   "cell_type": "code",
   "execution_count": 13,
   "id": "2ea1a438",
   "metadata": {},
   "outputs": [
    {
     "name": "stdout",
     "output_type": "stream",
     "text": [
      "cube of 5 = 125\n"
     ]
    }
   ],
   "source": [
    "def cube(x):\n",
    "    return x**3\n",
    "print('cube of 5 =',\n",
    "     cube(5))"
   ]
  },
  {
   "cell_type": "code",
   "execution_count": 14,
   "id": "9a743cf2",
   "metadata": {},
   "outputs": [
    {
     "name": "stdout",
     "output_type": "stream",
     "text": [
      "-6 is neg\n",
      "6 is pos\n",
      "0 is 0\n"
     ]
    }
   ],
   "source": [
    "def sign(x):\n",
    "    if x<0:\n",
    "        print(x, 'is neg')\n",
    "    elif x==0:\n",
    "        print(x, 'is 0')\n",
    "    else:\n",
    "        print(x, 'is pos')\n",
    "sign(-6)\n",
    "sign(6)\n",
    "sign(0)"
   ]
  },
  {
   "cell_type": "code",
   "execution_count": 15,
   "id": "f8a31f5d",
   "metadata": {},
   "outputs": [
    {
     "name": "stdout",
     "output_type": "stream",
     "text": [
      "Counting till 10\n",
      "1\n",
      "2\n",
      "3\n",
      "4\n",
      "5\n",
      "6\n",
      "7\n",
      "8\n",
      "9\n",
      "10\n"
     ]
    }
   ],
   "source": [
    "def count(n):\n",
    "    for i in range(1,n+1):\n",
    "        print(i)\n",
    "print('Counting till 10')\n",
    "count(10)"
   ]
  },
  {
   "cell_type": "code",
   "execution_count": 16,
   "id": "f79612bd",
   "metadata": {},
   "outputs": [],
   "source": [
    "def factorial(n):\n",
    "    ans = 1\n",
    "    for i in range(1,n+1):\n",
    "        ans = ans*i\n",
    "        return ans"
   ]
  },
  {
   "cell_type": "code",
   "execution_count": 17,
   "id": "c6977971",
   "metadata": {},
   "outputs": [
    {
     "name": "stdout",
     "output_type": "stream",
     "text": [
      "Factorial of 10 is: 1\n"
     ]
    }
   ],
   "source": [
    "def factorial(n):\n",
    "    ans = 1\n",
    "    for i in range(1,n+1):\n",
    "        ans = ans*i\n",
    "        return ans\n",
    "print('Factorial of 10 is:', factorial(10))"
   ]
  },
  {
   "cell_type": "code",
   "execution_count": 18,
   "id": "3eccc588",
   "metadata": {},
   "outputs": [
    {
     "name": "stdout",
     "output_type": "stream",
     "text": [
      "Factorial of 10 is: 3628800\n"
     ]
    }
   ],
   "source": [
    "def factorial(n):\n",
    "    ans = 1\n",
    "    for i in range(1,n+1):\n",
    "        ans = ans*i\n",
    "    return ans\n",
    "print('Factorial of 10 is:', factorial(10))"
   ]
  },
  {
   "cell_type": "code",
   "execution_count": 19,
   "id": "174295df",
   "metadata": {},
   "outputs": [],
   "source": [
    "p=1"
   ]
  },
  {
   "cell_type": "code",
   "execution_count": 20,
   "id": "fa613860",
   "metadata": {},
   "outputs": [
    {
     "name": "stdout",
     "output_type": "stream",
     "text": [
      "1\n",
      "2\n",
      "3\n",
      "4\n",
      "5\n",
      "6\n",
      "7\n",
      "8\n",
      "9\n",
      "10\n"
     ]
    }
   ],
   "source": [
    "p=1\n",
    "while p<=10:\n",
    "    print(p)\n",
    "    p+=1"
   ]
  },
  {
   "cell_type": "code",
   "execution_count": 21,
   "id": "34898895",
   "metadata": {},
   "outputs": [
    {
     "name": "stdout",
     "output_type": "stream",
     "text": [
      "100\n",
      "1000.0\n",
      "Ashish\n"
     ]
    }
   ],
   "source": [
    "counter = 100\n",
    "miles = 1000.0\n",
    "name = \"Ashish\"\n",
    "print(counter)\n",
    "print(miles)\n",
    "print(name)"
   ]
  },
  {
   "cell_type": "code",
   "execution_count": 22,
   "id": "06b0d40b",
   "metadata": {},
   "outputs": [],
   "source": [
    "a,b,c = 1,2,\"Ashish\"\n",
    "var1 = 1\n",
    "var2 = 10\n",
    "del var1, var2\n"
   ]
  },
  {
   "cell_type": "code",
   "execution_count": 23,
   "id": "8c23e69a",
   "metadata": {},
   "outputs": [
    {
     "name": "stdout",
     "output_type": "stream",
     "text": [
      "Ashish\n",
      "A\n",
      "his\n",
      "hish\n",
      "AshishAshish\n",
      "AshishTEST\n"
     ]
    }
   ],
   "source": [
    "str=\"Ashish\"\n",
    "print(str)\n",
    "print(str[0])\n",
    "print(str[2:5])\n",
    "print(str[2:])\n",
    "print(str * 2)\n",
    "print(str+\"TEST\")"
   ]
  },
  {
   "cell_type": "code",
   "execution_count": 24,
   "id": "218b56a9",
   "metadata": {},
   "outputs": [
    {
     "name": "stdout",
     "output_type": "stream",
     "text": [
      "Ashish\n",
      "A\n",
      "his\n",
      "hish\n",
      "AshishAshish\n",
      "Ashish TEST\n"
     ]
    }
   ],
   "source": [
    "str=\"Ashish\"\n",
    "print(str)\n",
    "print(str[0])\n",
    "print(str[2:5])\n",
    "print(str[2:])\n",
    "print(str * 2)\n",
    "print(str+\" \"+\"TEST\")"
   ]
  },
  {
   "cell_type": "code",
   "execution_count": 25,
   "id": "8da894c4",
   "metadata": {},
   "outputs": [
    {
     "name": "stdout",
     "output_type": "stream",
     "text": [
      "30\n",
      "-10\n",
      "200\n",
      "0.5\n",
      "10\n"
     ]
    }
   ],
   "source": [
    "a=10\n",
    "b=20\n",
    "sum=a+b\n",
    "print(sum)\n",
    "subtract=a-b\n",
    "print(subtract)\n",
    "multiply=a*b\n",
    "print(multiply)\n",
    "divide=a/b\n",
    "print(divide)\n",
    "mod=a%b\n",
    "print(mod)"
   ]
  },
  {
   "cell_type": "code",
   "execution_count": 26,
   "id": "45beb45f",
   "metadata": {},
   "outputs": [
    {
     "name": "stdout",
     "output_type": "stream",
     "text": [
      "Enter a number: 2\n",
      "2 is Even\n"
     ]
    }
   ],
   "source": [
    "# Odd & Even Code\n",
    "num = int(input(\"Enter a number: \"))\n",
    "if (num % 2) == 0:\n",
    "   print(\"{0} is Even\".format(num))\n",
    "else:\n",
    "   print(\"{0} is Odd\".format(num))"
   ]
  },
  {
   "cell_type": "code",
   "execution_count": 27,
   "id": "794f29ef",
   "metadata": {},
   "outputs": [
    {
     "name": "stdout",
     "output_type": "stream",
     "text": [
      "KIIT\n"
     ]
    }
   ],
   "source": [
    "str=\"I AM IN KIIT\"\n",
    "print(str[8:12])"
   ]
  },
  {
   "cell_type": "code",
   "execution_count": 29,
   "id": "6191bc92",
   "metadata": {},
   "outputs": [
    {
     "name": "stdout",
     "output_type": "stream",
     "text": [
      "Enter a number: 5\n",
      "5 is a prime number\n"
     ]
    }
   ],
   "source": [
    "# num = 19\n",
    "\n",
    "# To take input from the user\n",
    "num = int(input(\"Enter a number: \"))\n",
    "\n",
    "# define a flag variable\n",
    "flag = False\n",
    "\n",
    "if num == 1:\n",
    "    print(num, \"is not a prime number\")\n",
    "elif num > 1:\n",
    "    # check for factors\n",
    "    for i in range(2, num):\n",
    "        if (num % i) == 0:\n",
    "            # if factor is found, set flag to True\n",
    "            flag = True\n",
    "            # break out of loop\n",
    "            break\n",
    "\n",
    "    # check if flag is True\n",
    "    if flag:\n",
    "        print(num, \"is not a prime number\")\n",
    "    else:\n",
    "        print(num, \"is a prime number\")"
   ]
  },
  {
   "cell_type": "code",
   "execution_count": 30,
   "id": "a4051cb5",
   "metadata": {},
   "outputs": [
    {
     "name": "stdout",
     "output_type": "stream",
     "text": [
      "Enter a number: 5\n",
      "5 is not an Armstrong number\n"
     ]
    }
   ],
   "source": [
    "\n",
    "num = int(input(\"Enter a number: \"))\n",
    "sum = 0\n",
    "temp = num\n",
    "while temp > 0:\n",
    "   digit = temp % 10\n",
    "   sum += digit ** 3\n",
    "   temp //= 10\n",
    "\n",
    "# display the result\n",
    "if num == sum:\n",
    "   print(num,\"is an Armstrong number\")\n",
    "else:\n",
    "   print(num,\"is not an Armstrong number\")\n"
   ]
  },
  {
   "cell_type": "code",
   "execution_count": null,
   "id": "2e3271f9",
   "metadata": {},
   "outputs": [],
   "source": []
  },
  {
   "cell_type": "code",
   "execution_count": null,
   "id": "68f0863e",
   "metadata": {},
   "outputs": [],
   "source": []
  }
 ],
 "metadata": {
  "kernelspec": {
   "display_name": "Python 3 (ipykernel)",
   "language": "python",
   "name": "python3"
  },
  "language_info": {
   "codemirror_mode": {
    "name": "ipython",
    "version": 3
   },
   "file_extension": ".py",
   "mimetype": "text/x-python",
   "name": "python",
   "nbconvert_exporter": "python",
   "pygments_lexer": "ipython3",
   "version": "3.9.13"
  },
  "vscode": {
   "interpreter": {
    "hash": "31367e2cfbda0d4c4c304632cba9b37580c58280180cc8f81514f9adcc11a803"
   }
  }
 },
 "nbformat": 4,
 "nbformat_minor": 5
}
