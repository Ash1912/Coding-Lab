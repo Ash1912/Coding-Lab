{
 "cells": [
  {
   "cell_type": "code",
   "execution_count": 1,
   "id": "d9ac1db7",
   "metadata": {},
   "outputs": [
    {
     "name": "stdout",
     "output_type": "stream",
     "text": [
      "256\n"
     ]
    },
    {
     "data": {
      "text/plain": [
       "[None]"
      ]
     },
     "execution_count": 1,
     "metadata": {},
     "output_type": "execute_result"
    }
   ],
   "source": [
    "def f(x):\n",
    "  y = list(x)[0]\n",
    "  yield y*y\n",
    "[print(x) for x in f(f(f([2])))]"
   ]
  },
  {
   "cell_type": "code",
   "execution_count": 3,
   "id": "d22e8f37",
   "metadata": {},
   "outputs": [
    {
     "name": "stdout",
     "output_type": "stream",
     "text": [
      "[[[1 3 1]\n",
      "  [2 4 2]]]\n"
     ]
    }
   ],
   "source": [
    "import numpy as np\n",
    "print(np.array([[[1], [2]], [[3], [4]], [[1], [2]]]).transpose([2,1,0]))"
   ]
  },
  {
   "cell_type": "code",
   "execution_count": 4,
   "id": "3eab8d49",
   "metadata": {},
   "outputs": [
    {
     "name": "stdout",
     "output_type": "stream",
     "text": [
      "7\n"
     ]
    }
   ],
   "source": [
    "class A:\n",
    "  def __init__(self, x): self.x = x\n",
    "  def __call__(self, x): return self.x+x\n",
    "print(A(3)(4))"
   ]
  },
  {
   "cell_type": "code",
   "execution_count": 5,
   "id": "842ca348",
   "metadata": {},
   "outputs": [
    {
     "name": "stdout",
     "output_type": "stream",
     "text": [
      "[0, -1, 1, -2]\n"
     ]
    }
   ],
   "source": [
    "print(sorted(range(-2, 2), key=lambda x: x * x))"
   ]
  },
  {
   "cell_type": "code",
   "execution_count": 6,
   "id": "f88a7ecc",
   "metadata": {},
   "outputs": [
    {
     "name": "stdout",
     "output_type": "stream",
     "text": [
      "[3, 4, 5]\n"
     ]
    }
   ],
   "source": [
    "print(list(map(lambda shift: shift+1, [2, 3, 4])))"
   ]
  },
  {
   "cell_type": "code",
   "execution_count": 7,
   "id": "c3f18064",
   "metadata": {},
   "outputs": [
    {
     "name": "stdout",
     "output_type": "stream",
     "text": [
      "False True\n"
     ]
    }
   ],
   "source": [
    "a = [1, 2, 3]\n",
    "b = [1, 2, 3]\n",
    "print(a is b, a == b)"
   ]
  },
  {
   "cell_type": "code",
   "execution_count": 8,
   "id": "943aed1d",
   "metadata": {},
   "outputs": [
    {
     "name": "stdout",
     "output_type": "stream",
     "text": [
      "3\n"
     ]
    }
   ],
   "source": [
    "print(len([\n",
    "  'Alice',\n",
    "  'Bob',\n",
    "  'Dilbert'\n",
    "  'Jane'\n",
    "]))"
   ]
  },
  {
   "cell_type": "code",
   "execution_count": 9,
   "id": "9ae80fd2",
   "metadata": {},
   "outputs": [
    {
     "name": "stdout",
     "output_type": "stream",
     "text": [
      "[2, 3, 5, 7, 11, 13, 17, 19]\n"
     ]
    }
   ],
   "source": [
    "print([x for x in range(2, 20) if all(x % y != 0 for y in range(2, x))])"
   ]
  },
  {
   "cell_type": "code",
   "execution_count": 10,
   "id": "129ecbf8",
   "metadata": {},
   "outputs": [],
   "source": [
    "arr = np.array([[1,2,3,4,5], [6,7,8,9,10]])"
   ]
  },
  {
   "cell_type": "code",
   "execution_count": 13,
   "id": "d41fd987",
   "metadata": {},
   "outputs": [
    {
     "name": "stdout",
     "output_type": "stream",
     "text": [
      "8\n"
     ]
    }
   ],
   "source": [
    "print(arr[1,2])"
   ]
  },
  {
   "cell_type": "code",
   "execution_count": 14,
   "id": "a665d3ab",
   "metadata": {},
   "outputs": [
    {
     "name": "stdout",
     "output_type": "stream",
     "text": [
      "{0, 1, 4}\n"
     ]
    }
   ],
   "source": [
    "print({x*x for x in range(-2,3)})"
   ]
  },
  {
   "cell_type": "code",
   "execution_count": 15,
   "id": "785130d6",
   "metadata": {},
   "outputs": [
    {
     "name": "stdout",
     "output_type": "stream",
     "text": [
      "0x41{65:#x}\n"
     ]
    }
   ],
   "source": [
    "print(f\"{65:#x}\"\"{65:#x}\")"
   ]
  },
  {
   "cell_type": "code",
   "execution_count": 16,
   "id": "e0f5f3bc",
   "metadata": {},
   "outputs": [
    {
     "name": "stdout",
     "output_type": "stream",
     "text": [
      "{13, 14}\n"
     ]
    }
   ],
   "source": [
    "S = {12,13,14,15}\n",
    "S.intersection_update({17, 13, 14, 16})\n",
    "print(S)"
   ]
  },
  {
   "cell_type": "code",
   "execution_count": 17,
   "id": "0ba65632",
   "metadata": {},
   "outputs": [
    {
     "ename": "AttributeError",
     "evalue": "'A' object has no attribute '__print'",
     "output_type": "error",
     "traceback": [
      "\u001b[1;31m---------------------------------------------------------------------------\u001b[0m",
      "\u001b[1;31mAttributeError\u001b[0m                            Traceback (most recent call last)",
      "Cell \u001b[1;32mIn[17], line 4\u001b[0m\n\u001b[0;32m      2\u001b[0m   \u001b[38;5;28;01mdef\u001b[39;00m \u001b[38;5;21m__print\u001b[39m(\u001b[38;5;28mself\u001b[39m):\n\u001b[0;32m      3\u001b[0m     \u001b[38;5;28mprint\u001b[39m(\u001b[38;5;124m'\u001b[39m\u001b[38;5;124mA\u001b[39m\u001b[38;5;124m'\u001b[39m)\n\u001b[1;32m----> 4\u001b[0m \u001b[43mA\u001b[49m\u001b[43m(\u001b[49m\u001b[43m)\u001b[49m\u001b[38;5;241;43m.\u001b[39;49m\u001b[43m__print\u001b[49m()\n",
      "\u001b[1;31mAttributeError\u001b[0m: 'A' object has no attribute '__print'"
     ]
    }
   ],
   "source": [
    "class A:\n",
    "  def __print(self):\n",
    "    print('A')\n",
    "A().__print()"
   ]
  },
  {
   "cell_type": "code",
   "execution_count": 18,
   "id": "6e93daf0",
   "metadata": {},
   "outputs": [
    {
     "name": "stdout",
     "output_type": "stream",
     "text": [
      "WORLD\n"
     ]
    }
   ],
   "source": [
    "(lambda s: print((lambda x: s.upper())('hello')))('world')"
   ]
  },
  {
   "cell_type": "code",
   "execution_count": 19,
   "id": "5b92313b",
   "metadata": {},
   "outputs": [
    {
     "name": "stdout",
     "output_type": "stream",
     "text": [
      "None\n"
     ]
    }
   ],
   "source": [
    "def f(s):\n",
    "  s + '...'\n",
    "print(f('apple'))"
   ]
  },
  {
   "cell_type": "code",
   "execution_count": 20,
   "id": "ca5eddb3",
   "metadata": {},
   "outputs": [
    {
     "ename": "NameError",
     "evalue": "name 'random' is not defined",
     "output_type": "error",
     "traceback": [
      "\u001b[1;31m---------------------------------------------------------------------------\u001b[0m",
      "\u001b[1;31mNameError\u001b[0m                                 Traceback (most recent call last)",
      "Cell \u001b[1;32mIn[20], line 1\u001b[0m\n\u001b[1;32m----> 1\u001b[0m \u001b[38;5;28mprint\u001b[39m(\u001b[43mrandom\u001b[49m\u001b[38;5;241m.\u001b[39mbinomial(n\u001b[38;5;241m=\u001b[39m\u001b[38;5;241m7\u001b[39m, p\u001b[38;5;241m=\u001b[39m\u001b[38;5;241m0.5\u001b[39m, size\u001b[38;5;241m=\u001b[39m\u001b[38;5;241m4\u001b[39m))\n",
      "\u001b[1;31mNameError\u001b[0m: name 'random' is not defined"
     ]
    }
   ],
   "source": [
    "print(random.binomial(n=7, p=0.5, size=4))"
   ]
  },
  {
   "cell_type": "code",
   "execution_count": 21,
   "id": "9c835b0b",
   "metadata": {},
   "outputs": [
    {
     "name": "stdout",
     "output_type": "stream",
     "text": [
      "3\n",
      "1\n",
      "6\n",
      "5\n"
     ]
    }
   ],
   "source": [
    "a = {13, 14, 15, 16}\n",
    "b = {12, 16, 17}\n",
    "print(len(a-b))\n",
    "print(len(a&b))\n",
    "print(len(a|b))\n",
    "print(len(a^b))"
   ]
  },
  {
   "cell_type": "code",
   "execution_count": 22,
   "id": "c8b73739",
   "metadata": {},
   "outputs": [
    {
     "name": "stdout",
     "output_type": "stream",
     "text": [
      "{1: 2, '1': 2}\n"
     ]
    }
   ],
   "source": [
    "c={}; c[1]=1; c['1']=2; c[1]+=1; print(c)"
   ]
  },
  {
   "cell_type": "code",
   "execution_count": 23,
   "id": "0a94e2a6",
   "metadata": {},
   "outputs": [
    {
     "name": "stdout",
     "output_type": "stream",
     "text": [
      "1\n"
     ]
    }
   ],
   "source": [
    "def f(x, *args, **kwargs):\n",
    "  return len(args)\n",
    "print(f(1, 2, a=3, b=4))"
   ]
  },
  {
   "cell_type": "code",
   "execution_count": 24,
   "id": "8d222f37",
   "metadata": {},
   "outputs": [
    {
     "name": "stdout",
     "output_type": "stream",
     "text": [
      "True True\n"
     ]
    }
   ],
   "source": [
    "class A:\n",
    "  def __init__(self): self.a = 10\n",
    "  def __eq__(self, other): return True\n",
    "a = A()\n",
    "print(a==10, a==0)"
   ]
  },
  {
   "cell_type": "code",
   "execution_count": 25,
   "id": "399d8be3",
   "metadata": {},
   "outputs": [
    {
     "name": "stdout",
     "output_type": "stream",
     "text": [
      "False False\n"
     ]
    }
   ],
   "source": [
    "a = [1, 2, 3]\n",
    "b = [1, 2, 3]\n",
    "c = (1, 2, 3)\n",
    "d = (1, 2, 3)\n",
    "print(a is b, c is d)"
   ]
  },
  {
   "cell_type": "code",
   "execution_count": 26,
   "id": "18ad76e7",
   "metadata": {},
   "outputs": [],
   "source": [
    "def apply_discount(product, discount = 0.1):\n",
    "  price = int(product['price'] * (1.0 + discount))\n",
    "  assert 0 <= price <= product['price']\n",
    "  return price"
   ]
  },
  {
   "cell_type": "code",
   "execution_count": 27,
   "id": "ec004c24",
   "metadata": {},
   "outputs": [
    {
     "name": "stdout",
     "output_type": "stream",
     "text": [
      "(8, 9, 15)\n"
     ]
    }
   ],
   "source": [
    "print((0, 8, 9, 15, 17, 18)[slice(1, -2)])"
   ]
  },
  {
   "cell_type": "code",
   "execution_count": 28,
   "id": "c86f2adb",
   "metadata": {},
   "outputs": [
    {
     "name": "stdout",
     "output_type": "stream",
     "text": [
      "8\n"
     ]
    }
   ],
   "source": [
    "print([lambda x: x, lambda x: x*x, lambda x: x*x*x][2](2))"
   ]
  },
  {
   "cell_type": "code",
   "execution_count": 7,
   "id": "2fd2a99f",
   "metadata": {},
   "outputs": [
    {
     "name": "stdout",
     "output_type": "stream",
     "text": [
      "False\n"
     ]
    }
   ],
   "source": [
    "import pandas as pd\n",
    "df = pd.DataFrame({'Name': ['Alex','Bob','Jone','Dev','Hope','Bob','Alex'],\n",
    "                   'salary':[10,20,4,1,5,10,5]})\n",
    "df = df[~(df.Name=='Alex')]\n",
    "print(df.empty)"
   ]
  },
  {
   "cell_type": "code",
   "execution_count": 8,
   "id": "f827bda7",
   "metadata": {},
   "outputs": [
    {
     "name": "stdout",
     "output_type": "stream",
     "text": [
      "Pandas(Index=0, column1=4, column2=38, column3=98)\n",
      "Pandas(Index=1, column1=10, column2=78, column3=198)\n",
      "Pandas(Index=2, column1=16, column2=118, column3=298)\n"
     ]
    }
   ],
   "source": [
    "import pandas as pd\n",
    "def deletion(arg1, arg2):\n",
    "    return arg1 - arg2\n",
    "data = [[6,40,100], [12,80,200], [18,120,300]]\n",
    "dataframe = pd.DataFrame(data, columns = ['column1', 'column2', 'column3'])\n",
    "resdataframe = dataframe.pipe(deletion, 2)\n",
    "for res in resdataframe.itertuples():\n",
    "    print(res)\n",
    "    "
   ]
  },
  {
   "cell_type": "code",
   "execution_count": 1,
   "id": "436900d1",
   "metadata": {},
   "outputs": [
    {
     "name": "stdout",
     "output_type": "stream",
     "text": [
      "Collecting jupyterthemes\n",
      "  Using cached jupyterthemes-0.20.0-py2.py3-none-any.whl (7.0 MB)\n",
      "Requirement already satisfied: jupyter-core in c:\\users\\kiit\\appdata\\roaming\\python\\python39\\site-packages (from jupyterthemes) (5.2.0)\n",
      "Collecting lesscpy>=0.11.2\n",
      "  Using cached lesscpy-0.15.1-py2.py3-none-any.whl (46 kB)\n",
      "Requirement already satisfied: matplotlib>=1.4.3 in c:\\users\\kiit\\anaconda3\\lib\\site-packages (from jupyterthemes) (3.7.1)\n",
      "Requirement already satisfied: notebook>=5.6.0 in c:\\users\\kiit\\anaconda3\\lib\\site-packages (from jupyterthemes) (6.5.3)\n",
      "Requirement already satisfied: ipython>=5.4.1 in c:\\users\\kiit\\anaconda3\\lib\\site-packages (from jupyterthemes) (8.12.0)\n",
      "Requirement already satisfied: jedi>=0.16 in c:\\users\\kiit\\appdata\\roaming\\python\\python39\\site-packages (from ipython>=5.4.1->jupyterthemes) (0.18.2)\n",
      "Requirement already satisfied: stack-data in c:\\users\\kiit\\appdata\\roaming\\python\\python39\\site-packages (from ipython>=5.4.1->jupyterthemes) (0.6.2)\n",
      "Requirement already satisfied: typing-extensions in c:\\users\\kiit\\anaconda3\\lib\\site-packages (from ipython>=5.4.1->jupyterthemes) (4.4.0)\n",
      "Requirement already satisfied: pygments>=2.4.0 in c:\\users\\kiit\\appdata\\roaming\\python\\python39\\site-packages (from ipython>=5.4.1->jupyterthemes) (2.14.0)\n",
      "Requirement already satisfied: colorama in c:\\users\\kiit\\appdata\\roaming\\python\\python39\\site-packages (from ipython>=5.4.1->jupyterthemes) (0.4.6)\n",
      "Requirement already satisfied: decorator in c:\\users\\kiit\\appdata\\roaming\\python\\python39\\site-packages (from ipython>=5.4.1->jupyterthemes) (5.1.1)\n",
      "Requirement already satisfied: matplotlib-inline in c:\\users\\kiit\\appdata\\roaming\\python\\python39\\site-packages (from ipython>=5.4.1->jupyterthemes) (0.1.6)\n",
      "Requirement already satisfied: pickleshare in c:\\users\\kiit\\appdata\\roaming\\python\\python39\\site-packages (from ipython>=5.4.1->jupyterthemes) (0.7.5)\n",
      "Requirement already satisfied: traitlets>=5 in c:\\users\\kiit\\appdata\\roaming\\python\\python39\\site-packages (from ipython>=5.4.1->jupyterthemes) (5.9.0)\n",
      "Requirement already satisfied: backcall in c:\\users\\kiit\\appdata\\roaming\\python\\python39\\site-packages (from ipython>=5.4.1->jupyterthemes) (0.2.0)\n",
      "Collecting prompt-toolkit!=3.0.37,<3.1.0,>=3.0.30\n",
      "  Using cached prompt_toolkit-3.0.38-py3-none-any.whl (385 kB)\n",
      "Requirement already satisfied: ply in c:\\users\\kiit\\anaconda3\\lib\\site-packages (from lesscpy>=0.11.2->jupyterthemes) (3.11)\n",
      "Note: you may need to restart the kernel to use updated packages.\n"
     ]
    },
    {
     "name": "stderr",
     "output_type": "stream",
     "text": [
      "ERROR: Could not install packages due to an OSError: [Errno 2] No such file or directory: 'c:\\\\users\\\\kiit\\\\anaconda3\\\\lib\\\\site-packages\\\\matplotlib-3.7.1.dist-info\\\\METADATA'\n",
      "\n"
     ]
    }
   ],
   "source": [
    "pip install jupyterthemes"
   ]
  },
  {
   "cell_type": "code",
   "execution_count": 2,
   "id": "91def971",
   "metadata": {},
   "outputs": [
    {
     "ename": "ModuleNotFoundError",
     "evalue": "No module named 'jupyterthemes'",
     "output_type": "error",
     "traceback": [
      "\u001b[1;31m---------------------------------------------------------------------------\u001b[0m",
      "\u001b[1;31mModuleNotFoundError\u001b[0m                       Traceback (most recent call last)",
      "Cell \u001b[1;32mIn[2], line 1\u001b[0m\n\u001b[1;32m----> 1\u001b[0m \u001b[38;5;28;01mfrom\u001b[39;00m \u001b[38;5;21;01mjupyterthemes\u001b[39;00m \u001b[38;5;28;01mimport\u001b[39;00m get_themes\n\u001b[0;32m      2\u001b[0m \u001b[38;5;28;01mimport\u001b[39;00m \u001b[38;5;21;01mjupyterthemes\u001b[39;00m \u001b[38;5;28;01mas\u001b[39;00m \u001b[38;5;21;01mjt\u001b[39;00m\n\u001b[0;32m      3\u001b[0m \u001b[38;5;28;01mfrom\u001b[39;00m \u001b[38;5;21;01mjupyterthemes\u001b[39;00m\u001b[38;5;21;01m.\u001b[39;00m\u001b[38;5;21;01mstylefx\u001b[39;00m \u001b[38;5;28;01mimport\u001b[39;00m set_nb_theme\n",
      "\u001b[1;31mModuleNotFoundError\u001b[0m: No module named 'jupyterthemes'"
     ]
    }
   ],
   "source": [
    "from jupyterthemes import get_themes\n",
    "import jupyterthemes as jt\n",
    "from jupyterthemes.stylefx import set_nb_theme\n",
    "\n",
    "set_nb_theme('chesterish')"
   ]
  },
  {
   "cell_type": "code",
   "execution_count": 5,
   "id": "2cc30b77",
   "metadata": {},
   "outputs": [
    {
     "name": "stdout",
     "output_type": "stream",
     "text": [
      "Requirement already satisfied: pip in c:\\users\\kiit\\anaconda3\\lib\\site-packages (23.0.1)\n",
      "Collecting pip\n",
      "  Downloading pip-23.1.1-py3-none-any.whl (2.1 MB)\n",
      "     ---------------------------------------- 0.0/2.1 MB ? eta -:--:--\n",
      "     - -------------------------------------- 0.1/2.1 MB 1.7 MB/s eta 0:00:02\n",
      "     ---- ----------------------------------- 0.2/2.1 MB 2.8 MB/s eta 0:00:01\n",
      "     -------- ------------------------------- 0.5/2.1 MB 3.5 MB/s eta 0:00:01\n",
      "     --------------- ------------------------ 0.8/2.1 MB 4.6 MB/s eta 0:00:01\n",
      "     ------------------------ --------------- 1.3/2.1 MB 5.7 MB/s eta 0:00:01\n",
      "     --------------------------------- ------ 1.7/2.1 MB 6.4 MB/s eta 0:00:01\n",
      "     -------------------------------------- - 2.0/2.1 MB 6.3 MB/s eta 0:00:01\n",
      "     -------------------------------------- - 2.0/2.1 MB 5.8 MB/s eta 0:00:01\n",
      "     ---------------------------------------- 2.1/2.1 MB 5.3 MB/s eta 0:00:00\n",
      "Installing collected packages: pip\n",
      "  Attempting uninstall: pip\n",
      "    Found existing installation: pip 23.0.1\n",
      "    Uninstalling pip-23.0.1:\n",
      "      Successfully uninstalled pip-23.0.1\n",
      "Successfully installed pip-23.1.1\n",
      "Note: you may need to restart the kernel to use updated packages.\n"
     ]
    },
    {
     "name": "stderr",
     "output_type": "stream",
     "text": [
      "WARNING: Error parsing requirements for matplotlib: [Errno 2] No such file or directory: 'c:\\\\users\\\\kiit\\\\anaconda3\\\\lib\\\\site-packages\\\\matplotlib-3.7.1.dist-info\\\\METADATA'\n"
     ]
    }
   ],
   "source": [
    "pip install --upgrade pip"
   ]
  },
  {
   "cell_type": "code",
   "execution_count": null,
   "id": "c8cba27c",
   "metadata": {},
   "outputs": [],
   "source": []
  }
 ],
 "metadata": {
  "kernelspec": {
   "display_name": "Python 3 (ipykernel)",
   "language": "python",
   "name": "python3"
  },
  "language_info": {
   "codemirror_mode": {
    "name": "ipython",
    "version": 3
   },
   "file_extension": ".py",
   "mimetype": "text/x-python",
   "name": "python",
   "nbconvert_exporter": "python",
   "pygments_lexer": "ipython3",
   "version": "3.9.13"
  }
 },
 "nbformat": 4,
 "nbformat_minor": 5
}
