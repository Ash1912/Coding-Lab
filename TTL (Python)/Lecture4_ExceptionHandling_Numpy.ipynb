{
 "cells": [
  {
   "cell_type": "code",
   "execution_count": 1,
   "id": "9b31435c",
   "metadata": {},
   "outputs": [
    {
     "name": "stdout",
     "output_type": "stream",
     "text": [
      "1/4 = 0.25\n",
      "1/0.5 = 2.0\n"
     ]
    },
    {
     "ename": "ZeroDivisionError",
     "evalue": "division by zero",
     "output_type": "error",
     "traceback": [
      "\u001b[1;31m---------------------------------------------------------------------------\u001b[0m",
      "\u001b[1;31mZeroDivisionError\u001b[0m                         Traceback (most recent call last)",
      "\u001b[1;32m~\\AppData\\Local\\Temp\\ipykernel_2832\\180280265.py\u001b[0m in \u001b[0;36m<module>\u001b[1;34m\u001b[0m\n\u001b[0;32m      5\u001b[0m \u001b[0mprint\u001b[0m\u001b[1;33m(\u001b[0m\u001b[1;34m'1/4 ='\u001b[0m\u001b[1;33m,\u001b[0m \u001b[0minvert\u001b[0m\u001b[1;33m(\u001b[0m\u001b[1;36m4\u001b[0m\u001b[1;33m)\u001b[0m\u001b[1;33m)\u001b[0m\u001b[1;33m\u001b[0m\u001b[1;33m\u001b[0m\u001b[0m\n\u001b[0;32m      6\u001b[0m \u001b[0mprint\u001b[0m\u001b[1;33m(\u001b[0m\u001b[1;34m'1/0.5 ='\u001b[0m\u001b[1;33m,\u001b[0m\u001b[0minvert\u001b[0m\u001b[1;33m(\u001b[0m\u001b[1;36m0.5\u001b[0m\u001b[1;33m)\u001b[0m\u001b[1;33m)\u001b[0m\u001b[1;33m\u001b[0m\u001b[1;33m\u001b[0m\u001b[0m\n\u001b[1;32m----> 7\u001b[1;33m \u001b[0mprint\u001b[0m\u001b[1;33m(\u001b[0m\u001b[1;34m'1/0 ='\u001b[0m\u001b[1;33m,\u001b[0m\u001b[0minvert\u001b[0m\u001b[1;33m(\u001b[0m\u001b[1;36m0\u001b[0m\u001b[1;33m)\u001b[0m\u001b[1;33m)\u001b[0m\u001b[1;33m\u001b[0m\u001b[1;33m\u001b[0m\u001b[0m\n\u001b[0m",
      "\u001b[1;32m~\\AppData\\Local\\Temp\\ipykernel_2832\\180280265.py\u001b[0m in \u001b[0;36minvert\u001b[1;34m(x)\u001b[0m\n\u001b[0;32m      1\u001b[0m \u001b[1;31m# Exception Handling\u001b[0m\u001b[1;33m\u001b[0m\u001b[1;33m\u001b[0m\u001b[0m\n\u001b[0;32m      2\u001b[0m \u001b[1;32mdef\u001b[0m \u001b[0minvert\u001b[0m\u001b[1;33m(\u001b[0m\u001b[0mx\u001b[0m\u001b[1;33m)\u001b[0m\u001b[1;33m:\u001b[0m\u001b[1;33m\u001b[0m\u001b[1;33m\u001b[0m\u001b[0m\n\u001b[1;32m----> 3\u001b[1;33m     \u001b[0mans\u001b[0m\u001b[1;33m=\u001b[0m\u001b[1;36m1\u001b[0m\u001b[1;33m/\u001b[0m\u001b[0mx\u001b[0m\u001b[1;33m\u001b[0m\u001b[1;33m\u001b[0m\u001b[0m\n\u001b[0m\u001b[0;32m      4\u001b[0m     \u001b[1;32mreturn\u001b[0m \u001b[0mans\u001b[0m\u001b[1;33m\u001b[0m\u001b[1;33m\u001b[0m\u001b[0m\n\u001b[0;32m      5\u001b[0m \u001b[0mprint\u001b[0m\u001b[1;33m(\u001b[0m\u001b[1;34m'1/4 ='\u001b[0m\u001b[1;33m,\u001b[0m \u001b[0minvert\u001b[0m\u001b[1;33m(\u001b[0m\u001b[1;36m4\u001b[0m\u001b[1;33m)\u001b[0m\u001b[1;33m)\u001b[0m\u001b[1;33m\u001b[0m\u001b[1;33m\u001b[0m\u001b[0m\n",
      "\u001b[1;31mZeroDivisionError\u001b[0m: division by zero"
     ]
    }
   ],
   "source": [
    "# Exception Handling\n",
    "def invert(x):\n",
    "    ans=1/x\n",
    "    return ans\n",
    "print('1/4 =', invert(4))\n",
    "print('1/0.5 =',invert(0.5))\n",
    "print('1/0 =',invert(0))"
   ]
  },
  {
   "cell_type": "code",
   "execution_count": 2,
   "id": "14aaf6ea",
   "metadata": {},
   "outputs": [
    {
     "ename": "ZeroDivisionError",
     "evalue": "division by zero",
     "output_type": "error",
     "traceback": [
      "\u001b[1;31m---------------------------------------------------------------------------\u001b[0m",
      "\u001b[1;31mZeroDivisionError\u001b[0m                         Traceback (most recent call last)",
      "\u001b[1;32m~\\AppData\\Local\\Temp\\ipykernel_2832\\142626256.py\u001b[0m in \u001b[0;36m<module>\u001b[1;34m\u001b[0m\n\u001b[0;32m      3\u001b[0m     \u001b[0mans\u001b[0m\u001b[1;33m=\u001b[0m\u001b[1;36m1\u001b[0m\u001b[1;33m/\u001b[0m\u001b[0mx\u001b[0m\u001b[1;33m\u001b[0m\u001b[1;33m\u001b[0m\u001b[0m\n\u001b[0;32m      4\u001b[0m     \u001b[1;32mreturn\u001b[0m \u001b[0mans\u001b[0m\u001b[1;33m\u001b[0m\u001b[1;33m\u001b[0m\u001b[0m\n\u001b[1;32m----> 5\u001b[1;33m \u001b[0mprint\u001b[0m\u001b[1;33m(\u001b[0m\u001b[1;34m'1/0 ='\u001b[0m\u001b[1;33m,\u001b[0m\u001b[0minvert\u001b[0m\u001b[1;33m(\u001b[0m\u001b[1;36m0\u001b[0m\u001b[1;33m)\u001b[0m\u001b[1;33m)\u001b[0m\u001b[1;33m\u001b[0m\u001b[1;33m\u001b[0m\u001b[0m\n\u001b[0m\u001b[0;32m      6\u001b[0m \u001b[0mprint\u001b[0m\u001b[1;33m(\u001b[0m\u001b[1;34m'1/4 ='\u001b[0m\u001b[1;33m,\u001b[0m \u001b[0minvert\u001b[0m\u001b[1;33m(\u001b[0m\u001b[1;36m4\u001b[0m\u001b[1;33m)\u001b[0m\u001b[1;33m)\u001b[0m\u001b[1;33m\u001b[0m\u001b[1;33m\u001b[0m\u001b[0m\n\u001b[0;32m      7\u001b[0m \u001b[0mprint\u001b[0m\u001b[1;33m(\u001b[0m\u001b[1;34m'1/0.5 ='\u001b[0m\u001b[1;33m,\u001b[0m\u001b[0minvert\u001b[0m\u001b[1;33m(\u001b[0m\u001b[1;36m0.5\u001b[0m\u001b[1;33m)\u001b[0m\u001b[1;33m)\u001b[0m\u001b[1;33m\u001b[0m\u001b[1;33m\u001b[0m\u001b[0m\n",
      "\u001b[1;32m~\\AppData\\Local\\Temp\\ipykernel_2832\\142626256.py\u001b[0m in \u001b[0;36minvert\u001b[1;34m(x)\u001b[0m\n\u001b[0;32m      1\u001b[0m \u001b[1;31m# Exception Handling\u001b[0m\u001b[1;33m\u001b[0m\u001b[1;33m\u001b[0m\u001b[0m\n\u001b[0;32m      2\u001b[0m \u001b[1;32mdef\u001b[0m \u001b[0minvert\u001b[0m\u001b[1;33m(\u001b[0m\u001b[0mx\u001b[0m\u001b[1;33m)\u001b[0m\u001b[1;33m:\u001b[0m\u001b[1;33m\u001b[0m\u001b[1;33m\u001b[0m\u001b[0m\n\u001b[1;32m----> 3\u001b[1;33m     \u001b[0mans\u001b[0m\u001b[1;33m=\u001b[0m\u001b[1;36m1\u001b[0m\u001b[1;33m/\u001b[0m\u001b[0mx\u001b[0m\u001b[1;33m\u001b[0m\u001b[1;33m\u001b[0m\u001b[0m\n\u001b[0m\u001b[0;32m      4\u001b[0m     \u001b[1;32mreturn\u001b[0m \u001b[0mans\u001b[0m\u001b[1;33m\u001b[0m\u001b[1;33m\u001b[0m\u001b[0m\n\u001b[0;32m      5\u001b[0m \u001b[0mprint\u001b[0m\u001b[1;33m(\u001b[0m\u001b[1;34m'1/0 ='\u001b[0m\u001b[1;33m,\u001b[0m\u001b[0minvert\u001b[0m\u001b[1;33m(\u001b[0m\u001b[1;36m0\u001b[0m\u001b[1;33m)\u001b[0m\u001b[1;33m)\u001b[0m\u001b[1;33m\u001b[0m\u001b[1;33m\u001b[0m\u001b[0m\n",
      "\u001b[1;31mZeroDivisionError\u001b[0m: division by zero"
     ]
    }
   ],
   "source": [
    "# Exception Handling\n",
    "def invert(x):\n",
    "    ans=1/x\n",
    "    return ans\n",
    "print('1/0 =',invert(0))\n",
    "print('1/4 =', invert(4))\n",
    "print('1/0.5 =',invert(0.5))\n"
   ]
  },
  {
   "cell_type": "code",
   "execution_count": 9,
   "id": "55c3289a",
   "metadata": {},
   "outputs": [
    {
     "name": "stdout",
     "output_type": "stream",
     "text": [
      "1 / 0 is undefined\n",
      "1 / 4 = 0.25\n",
      "1 / 0.5 = 2.0\n",
      "1 / apple is undefined\n",
      "1 / [2, 3] is undefined\n"
     ]
    }
   ],
   "source": [
    "def invert(x):\n",
    "    ans = None\n",
    "    try:\n",
    "        ans=1/x\n",
    "    except Exception as err:\n",
    "        pass\n",
    "    return ans\n",
    "inputs = [0, 4, 0.5, 'apple', [2,3]]\n",
    "for x in inputs:\n",
    "    ans = invert(x)\n",
    "    if ans is not None:\n",
    "        print('1 /',x,'=',ans)\n",
    "    else:\n",
    "        print('1 /',x,'is undefined')\n",
    "# print('1/0 =',invert(0))\n",
    "# print('1/4 =', invert(4))\n",
    "# print('1/0.5 =',invert(0.5))"
   ]
  },
  {
   "cell_type": "code",
   "execution_count": 10,
   "id": "8b01ad37",
   "metadata": {},
   "outputs": [],
   "source": [
    "# Numpy\n",
    "\n",
    "import numpy as np\n"
   ]
  },
  {
   "cell_type": "code",
   "execution_count": 11,
   "id": "549c72c6",
   "metadata": {},
   "outputs": [],
   "source": [
    "data = 10 * np.random.randn(2,3,4)"
   ]
  },
  {
   "cell_type": "code",
   "execution_count": 12,
   "id": "914c1c6d",
   "metadata": {},
   "outputs": [
    {
     "name": "stdout",
     "output_type": "stream",
     "text": [
      "[[[-13.74726831   3.50466582  -4.73128827   2.62880122]\n",
      "  [ -3.83648115 -12.3964686    9.38678023  -6.10317972]\n",
      "  [ -6.4161903   23.64699449  -8.25510433  -4.12504565]]\n",
      "\n",
      " [[-21.43230688  10.81137743   0.69928884  -8.57289829]\n",
      "  [ 14.40616604  -8.1456314   -2.30986128  13.10994131]\n",
      "  [-16.2505641    1.81788955 -15.34696113 -15.69838722]]]\n"
     ]
    }
   ],
   "source": [
    "print(data)"
   ]
  },
  {
   "cell_type": "code",
   "execution_count": 13,
   "id": "184a20ed",
   "metadata": {},
   "outputs": [
    {
     "name": "stdout",
     "output_type": "stream",
     "text": [
      "[[[  7.   5. -14.  -2.]\n",
      "  [-10.  -0.   3.   9.]\n",
      "  [  8.  22.  -9. -14.]]\n",
      "\n",
      " [[ 20. -17.  -2.   3.]\n",
      "  [  4.   1.  11.  -2.]\n",
      "  [ -1. -12.  -3.   4.]]]\n"
     ]
    }
   ],
   "source": [
    "data = np.round(10 * np.random.randn(2,3,4))\n",
    "print(data)"
   ]
  },
  {
   "cell_type": "code",
   "execution_count": 15,
   "id": "d76d4576",
   "metadata": {},
   "outputs": [
    {
     "name": "stdout",
     "output_type": "stream",
     "text": [
      "[[ 20. -17.  -2.   3.]\n",
      " [  4.   1.  11.  -2.]\n",
      " [ -1. -12.  -3.   4.]] \n",
      "\n"
     ]
    }
   ],
   "source": [
    "print(data[1],'\\n')"
   ]
  },
  {
   "cell_type": "code",
   "execution_count": 16,
   "id": "3a5e9144",
   "metadata": {},
   "outputs": [],
   "source": [
    "# [ : ] => All elements\n",
    "# [a : b] => a to b (exclusive)\n",
    "# [a :] => from index a till end\n",
    "# [:b] => from start to index b(exclusive)"
   ]
  },
  {
   "cell_type": "code",
   "execution_count": 17,
   "id": "a7f5aa3f",
   "metadata": {},
   "outputs": [
    {
     "name": "stdout",
     "output_type": "stream",
     "text": [
      "[[[  7.   5. -14.  -2.]\n",
      "  [-10.  -0.   3.   9.]\n",
      "  [  8.  22.  -9. -14.]]\n",
      "\n",
      " [[ 20. -17.  -2.   3.]\n",
      "  [  4.   1.  11.  -2.]\n",
      "  [ -1. -12.  -3.   4.]]] \n",
      "\n",
      "[[[-10.  -0.   3.   9.]\n",
      "  [  8.  22.  -9. -14.]]\n",
      "\n",
      " [[  4.   1.  11.  -2.]\n",
      "  [ -1. -12.  -3.   4.]]]\n"
     ]
    }
   ],
   "source": [
    "print(data, '\\n')\n",
    "print(data[:, 1:, :])"
   ]
  },
  {
   "cell_type": "code",
   "execution_count": 18,
   "id": "6722d811",
   "metadata": {},
   "outputs": [
    {
     "name": "stdout",
     "output_type": "stream",
     "text": [
      "[[[  7.   5. -14.  -2.]\n",
      "  [-10.  -0.   3.   9.]\n",
      "  [  8.  22.  -9. -14.]]\n",
      "\n",
      " [[ 20. -17.  -2.   3.]\n",
      "  [  4.   1.  11.  -2.]\n",
      "  [ -1. -12.  -3.   4.]]] \n",
      "\n",
      "[[[ -0.   3.]\n",
      "  [ 22.  -9.]]\n",
      "\n",
      " [[  1.  11.]\n",
      "  [-12.  -3.]]]\n"
     ]
    }
   ],
   "source": [
    "print(data, '\\n')\n",
    "print(data[:, 1:, 1:3])"
   ]
  },
  {
   "cell_type": "code",
   "execution_count": 20,
   "id": "032f5508",
   "metadata": {},
   "outputs": [
    {
     "name": "stdout",
     "output_type": "stream",
     "text": [
      "[[[[1. 1. 1.]\n",
      "   [1. 1. 1.]]\n",
      "\n",
      "  [[1. 1. 1.]\n",
      "   [1. 1. 1.]]]\n",
      "\n",
      "\n",
      " [[[1. 1. 1.]\n",
      "   [1. 1. 1.]]\n",
      "\n",
      "  [[1. 1. 1.]\n",
      "   [1. 1. 1.]]]] \n",
      "\n"
     ]
    }
   ],
   "source": [
    "print(np.ones((2,2,2,3)),'\\n') #zeroes"
   ]
  },
  {
   "cell_type": "code",
   "execution_count": 21,
   "id": "d85cab8b",
   "metadata": {},
   "outputs": [
    {
     "name": "stdout",
     "output_type": "stream",
     "text": [
      "[[1. 0. 0. 0.]\n",
      " [0. 1. 0. 0.]\n",
      " [0. 0. 1. 0.]\n",
      " [0. 0. 0. 1.]]\n"
     ]
    }
   ],
   "source": [
    "print(np.eye(4))"
   ]
  },
  {
   "cell_type": "code",
   "execution_count": 24,
   "id": "ff954631",
   "metadata": {},
   "outputs": [
    {
     "name": "stdout",
     "output_type": "stream",
     "text": [
      "[[1 2]\n",
      " [3 4]]\n"
     ]
    }
   ],
   "source": [
    "data=np.matrix([[1,2], [3,4]])\n",
    "print(data)"
   ]
  },
  {
   "cell_type": "code",
   "execution_count": 25,
   "id": "62275e75",
   "metadata": {},
   "outputs": [
    {
     "name": "stdout",
     "output_type": "stream",
     "text": [
      "(2, 2)\n"
     ]
    }
   ],
   "source": [
    "print(data.shape)"
   ]
  },
  {
   "cell_type": "code",
   "execution_count": 26,
   "id": "7f335bc1",
   "metadata": {},
   "outputs": [
    {
     "name": "stdout",
     "output_type": "stream",
     "text": [
      "[[1.         1.41421356]\n",
      " [1.73205081 2.        ]]\n"
     ]
    }
   ],
   "source": [
    "print(np.sqrt(data))"
   ]
  },
  {
   "cell_type": "code",
   "execution_count": 28,
   "id": "fb546bd5",
   "metadata": {},
   "outputs": [
    {
     "name": "stdout",
     "output_type": "stream",
     "text": [
      "[[1 2]\n",
      " [3 4]\n",
      " [5 6]] \n",
      "\n",
      "[[35 44]\n",
      " [44 56]] \n",
      "\n",
      "[[35 44]\n",
      " [44 56]]\n"
     ]
    }
   ],
   "source": [
    "data=np.matrix([[1,2],[3,4],[5,6]])\n",
    "print(data,'\\n')\n",
    "print(data.T.dot(data),'\\n')\n",
    "print(np.dot(data.T, data))"
   ]
  },
  {
   "cell_type": "code",
   "execution_count": null,
   "id": "c06065a8",
   "metadata": {},
   "outputs": [],
   "source": []
  }
 ],
 "metadata": {
  "kernelspec": {
   "display_name": "Python 3 (ipykernel)",
   "language": "python",
   "name": "python3"
  },
  "language_info": {
   "codemirror_mode": {
    "name": "ipython",
    "version": 3
   },
   "file_extension": ".py",
   "mimetype": "text/x-python",
   "name": "python",
   "nbconvert_exporter": "python",
   "pygments_lexer": "ipython3",
   "version": "3.9.13"
  }
 },
 "nbformat": 4,
 "nbformat_minor": 5
}
