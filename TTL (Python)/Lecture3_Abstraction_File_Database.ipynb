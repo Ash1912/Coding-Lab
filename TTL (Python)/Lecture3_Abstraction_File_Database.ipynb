{
 "cells": [
  {
   "cell_type": "code",
   "execution_count": 3,
   "id": "8f192ef4",
   "metadata": {},
   "outputs": [
    {
     "name": "stdout",
     "output_type": "stream",
     "text": [
      "Woof woof! Clifford says hello.\n",
      "Meow meow! Ginger says hello.\n",
      "Phew phew! Polly says hello.\n",
      "Clifford is a Rottweiler dog .\n",
      "Ginger is a cat\n",
      "Polly is a parrot\n",
      "Is Ginger black? False\n"
     ]
    }
   ],
   "source": [
    "# Abstraction\n",
    "class Pet:\n",
    "    def __init__(self, name, kind):\n",
    "        self.name=name\n",
    "        self.kind=kind\n",
    "        \n",
    "    def greet(self):\n",
    "        pass\n",
    "    \n",
    "    def describe(self):\n",
    "        print(self.name,\"is a\",self.kind)\n",
    "    \n",
    "class Parrot(Pet):\n",
    "    def __init__(self, name):\n",
    "        Pet.__init__(self,name, \"parrot\")\n",
    "    \n",
    "    def greet(self):\n",
    "        print(\"Phew phew!\",self.name, \n",
    "              \"says hello.\")\n",
    "        \n",
    "class Dog(Pet):\n",
    "    def __init__(self,name,breed):\n",
    "        Pet.__init__(self,name,\"dog\")\n",
    "        self.breed=breed\n",
    "    \n",
    "    def greet(self):\n",
    "        print(\"Woof woof!\",\n",
    "             self.name,\"says hello.\")\n",
    "    \n",
    "    def describe(self):\n",
    "        print(self.name,\"is a\",self.breed,\n",
    "              self.kind,\".\")\n",
    "\n",
    "class Cat(Pet):\n",
    "    def __init__(self,name,color):\n",
    "        Pet.__init__(self,name,\"cat\")\n",
    "        self.color=color\n",
    "    \n",
    "    def greet(self):\n",
    "        print(\"Meow meow!\",self.name,\n",
    "             \"says hello.\")\n",
    "    \n",
    "    def isBlack(self):\n",
    "        return self.color=='black'\n",
    "    \n",
    "p1=Dog(\"Clifford\",\"Rottweiler\")\n",
    "p2=Cat(\"Ginger\",\"brown\")\n",
    "p3=Parrot(\"Polly\")\n",
    "\n",
    "p1.greet()\n",
    "p2.greet()\n",
    "p3.greet()\n",
    "\n",
    "p1.describe()\n",
    "p2.describe()\n",
    "p3.describe()\n",
    "\n",
    "print(\"Is\",p2.name,\"black?\",p2.isBlack())"
   ]
  },
  {
   "cell_type": "code",
   "execution_count": 4,
   "id": "9d12f85c",
   "metadata": {},
   "outputs": [],
   "source": [
    "# Writing to a file\n",
    "f1=open('data.txt','w')\n",
    "f1.write(\"one\\ntwo\\nthree\\n\")\n",
    "f1.close()"
   ]
  },
  {
   "cell_type": "code",
   "execution_count": 5,
   "id": "46f6c26b",
   "metadata": {},
   "outputs": [
    {
     "name": "stdout",
     "output_type": "stream",
     "text": [
      "one\n",
      "two\n",
      "three\n",
      "\n"
     ]
    }
   ],
   "source": [
    "# Reading entire file\n",
    "f2=open('data.txt','r')\n",
    "contents=f2.read()\n",
    "print(contents)\n",
    "f2.close()"
   ]
  },
  {
   "cell_type": "code",
   "execution_count": 7,
   "id": "1923e876",
   "metadata": {},
   "outputs": [
    {
     "name": "stdout",
     "output_type": "stream",
     "text": [
      "one\n",
      "two\n",
      "three\n"
     ]
    }
   ],
   "source": [
    "# Reading line by line\n",
    "f3=open('data.txt','r')\n",
    "for line in f3:\n",
    "    print(line,end=\"\")\n",
    "f3.close()"
   ]
  },
  {
   "cell_type": "code",
   "execution_count": 11,
   "id": "259316e8",
   "metadata": {},
   "outputs": [
    {
     "name": "stdout",
     "output_type": "stream",
     "text": [
      "People I came to know after 2015\n",
      "Shikha since 2017\n",
      "Rajiv since 2021\n"
     ]
    }
   ],
   "source": [
    "from pymongo import MongoClient\n",
    "client=MongoClient('10.3.24.241')\n",
    "# Create Database\n",
    "friends=client.CS20051685.friends\n",
    "friends.insert_one({'name':'Shikha',\n",
    "                   'year':2017\n",
    "                   })\n",
    "friends.insert_one({'name':'Vinod',\n",
    "                   'year':2012\n",
    "                   })\n",
    "friends.insert_one({'name':'Rajiv',\n",
    "                   'year':2021\n",
    "                   })\n",
    "# Search Database\n",
    "print('People I came to know after 2015')\n",
    "results=friends.find({'year':{'$gt':2015}})\n",
    "for f in results:\n",
    "    print(f['name'],'since',f['year'])"
   ]
  },
  {
   "cell_type": "code",
   "execution_count": 12,
   "id": "a586dedc",
   "metadata": {},
   "outputs": [
    {
     "name": "stdout",
     "output_type": "stream",
     "text": [
      "I know Shikha since 2017\n",
      "I know Vinod since 2012\n",
      "I know Rajiv since 2019\n"
     ]
    }
   ],
   "source": [
    "# Update Database\n",
    "friends.update_one({'name':'Rajiv'},\n",
    "                  {'$set':{'year':2019}})\n",
    "for f in friends.find():\n",
    "    print('I know',f['name'],'since',f['year'])"
   ]
  },
  {
   "cell_type": "code",
   "execution_count": null,
   "id": "5821ddfd",
   "metadata": {},
   "outputs": [],
   "source": []
  }
 ],
 "metadata": {
  "kernelspec": {
   "display_name": "Python 3 (ipykernel)",
   "language": "python",
   "name": "python3"
  },
  "language_info": {
   "codemirror_mode": {
    "name": "ipython",
    "version": 3
   },
   "file_extension": ".py",
   "mimetype": "text/x-python",
   "name": "python",
   "nbconvert_exporter": "python",
   "pygments_lexer": "ipython3",
   "version": "3.9.13"
  },
  "vscode": {
   "interpreter": {
    "hash": "31367e2cfbda0d4c4c304632cba9b37580c58280180cc8f81514f9adcc11a803"
   }
  }
 },
 "nbformat": 4,
 "nbformat_minor": 5
}
